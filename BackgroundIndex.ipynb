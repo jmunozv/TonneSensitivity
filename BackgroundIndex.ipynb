{
 "cells": [
  {
   "cell_type": "markdown",
   "metadata": {},
   "source": [
    "<p style=\"font-family: Arial; font-size:3.75em;color:purple; font-style:bold\">\n",
    "<br>NEXT TONNE - BACKGROUND INDEX</p><br>"
   ]
  },
  {
   "cell_type": "code",
   "execution_count": 1,
   "metadata": {},
   "outputs": [
    {
     "data": {
      "text/html": [
       "<style>body {\n",
       "    margin: 0;\n",
       "    font-family: Helvetica;\n",
       "}\n",
       "table.dataframe {\n",
       "    border-collapse: collapse;\n",
       "    border: none;\n",
       "}\n",
       "table.dataframe tr {\n",
       "    border: none;\n",
       "}\n",
       "table.dataframe td, table.dataframe th {\n",
       "    margin: 0;\n",
       "    border: 1px solid white;\n",
       "    padding-left: 0.25em;\n",
       "    padding-right: 0.25em;\n",
       "}\n",
       "table.dataframe th:not(:empty) {\n",
       "    background-color: #fec;\n",
       "    text-align: left;\n",
       "    font-weight: normal;\n",
       "}\n",
       "table.dataframe tr:nth-child(2) th:empty {\n",
       "    border-left: none;\n",
       "    border-right: 1px dashed #888;\n",
       "}\n",
       "table.dataframe td {\n",
       "    border: 2px solid #ccf;\n",
       "    background-color: #f4f4ff;\n",
       "}\n",
       "h3 {\n",
       "    color: white;\n",
       "    background-color: black;\n",
       "    padding: 0.5em;\n",
       "}\n",
       "</style>"
      ],
      "text/plain": [
       "<IPython.core.display.HTML object>"
      ]
     },
     "execution_count": 1,
     "metadata": {},
     "output_type": "execute_result"
    }
   ],
   "source": [
    "from IPython.core.display import HTML\n",
    "css = open('style-table.css').read() + open('style-notebook.css').read()\n",
    "HTML('<style>{}</style>'.format(css))"
   ]
  },
  {
   "cell_type": "code",
   "execution_count": 2,
   "metadata": {},
   "outputs": [],
   "source": [
    "%load_ext autoreload\n",
    "%autoreload 2"
   ]
  },
  {
   "cell_type": "code",
   "execution_count": 3,
   "metadata": {},
   "outputs": [],
   "source": [
    "# General importings\n",
    "import math\n",
    "import numpy             as np\n",
    "import tables            as tb\n",
    "import pandas            as pd\n",
    "import matplotlib.pyplot as plt\n",
    "\n",
    "# IC stuff\n",
    "import invisible_cities.core.system_of_units as units\n",
    "\n",
    "# TONNE stuff\n",
    "from detector_dimensions  import get_dimensions\n",
    "from detector_dimensions  import print_dimensions\n",
    "\n",
    "from material_activities  import get_activities\n",
    "from material_activities  import print_activities\n",
    "\n",
    "from detector_backgrounds import get_background_level\n",
    "from rejection_factors    import get_rejection_factors\n",
    "from roi_settings         import get_roi_settings\n"
   ]
  },
  {
   "cell_type": "markdown",
   "metadata": {},
   "source": [
    "# DETAILS OF ANALYSIS"
   ]
  },
  {
   "cell_type": "code",
   "execution_count": 5,
   "metadata": {},
   "outputs": [],
   "source": [
    "# VERBOSITY\n",
    "VERBOSE = True\n",
    "\n",
    "# Available detectors: \"next_2x2\", \"next_3x3\", \"next_hd\"\n",
    "DETECTOR = 'next_hd'\n",
    "\n",
    "# Available background levels: \"pessimistic\", \"probable\", \"optimistic\"\n",
    "BKGND_LEVEL = 'pessimistic'"
   ]
  },
  {
   "cell_type": "markdown",
   "metadata": {},
   "source": [
    "# LOADING DETECTOR DATA"
   ]
  },
  {
   "cell_type": "code",
   "execution_count": 9,
   "metadata": {},
   "outputs": [],
   "source": [
    "det_dim = get_dimensions(DETECTOR)"
   ]
  },
  {
   "cell_type": "code",
   "execution_count": 10,
   "metadata": {},
   "outputs": [
    {
     "name": "stdout",
     "output_type": "stream",
     "text": [
      "*** DETECTOR 'next_hd' DIMENSIONS ***\n",
      "\n",
      "* ACTIVE\n",
      "  ACTIVE Diameter = 260.0 cm\n",
      "  ACTIVE Length   = 260.0 cm\n",
      "  ACTIVE Volume   = 1.38e+07 cm**3\n",
      "  ACTIVE mass     = 1.229e+03 kg\n",
      "\n",
      "* READOUT_PLANE\n",
      "  READOUT_PLANE Surface = 5.309e+04 cm**2\n",
      "\n",
      "* CATHODE\n",
      "  CATHODE Volume = 1.327e+03 cm**3\n",
      "  CATHODE Mass   = 10.61 kg\n",
      "\n",
      "* FIELD_CAGE\n",
      "  FIELD_CAGE Thickness = 1.0 cm\n",
      "  FIELD_CAGE Inner Rad = 130.0 cm\n",
      "  FIELD_CAGE Outer Rad = 131.0 cm\n",
      "  FIELD_CAGE Length    = 260.0 cm\n",
      "  FIELD_CAGE Volume    = 2.132e+05 cm**3\n",
      "  FIELD_CAGE Mass      = 206.8 kg\n",
      "\n",
      "* INNER_SHIELDING\n",
      "  ICS Thickness         = 12.0 cm\n",
      "  ICS Inner Rad         = 131.0 cm\n",
      "  ICS Outer Rad         = 143.0 cm\n",
      "  ICS Inner Length      = 264.0 cm\n",
      "  ICS Outer Length      = 288.0 cm\n",
      "  ICS Inner EndCap Surf = 5.391e+04 cm**2\n",
      "  ICS Outer EndCap Surf = 6.424e+04 cm**2\n",
      "  ICS Volume            = 4.269e+06 cm**3\n",
      "  ICS Mass              = 3.825e+04 kg\n",
      "\n",
      "* VESSEL\n",
      "  VESSEL Thickness    = 2.0 cm\n",
      "  VESSEL Inner Rad    = 143.0 cm\n",
      "  VESSEL Outer Rad    = 145.0 cm\n",
      "  VESSEL Inner Length = 328.0 cm\n",
      "  VESSEL Outer Length = 332.0 cm\n",
      "  VESSEL Volume       = 8.577e+05 cm**3\n",
      "  VESSEL Mass         = 6.853e+03 kg\n"
     ]
    }
   ],
   "source": [
    "if VERBOSE:\n",
    "    print_dimensions(DETECTOR)"
   ]
  },
  {
   "cell_type": "code",
   "execution_count": 11,
   "metadata": {},
   "outputs": [],
   "source": [
    "mat_act = get_activities(BKGND_LEVEL)"
   ]
  },
  {
   "cell_type": "code",
   "execution_count": 12,
   "metadata": {},
   "outputs": [
    {
     "name": "stdout",
     "output_type": "stream",
     "text": [
      "*** 'pessimistic' MATERIAL ACTIVITIES ***\n",
      "\n",
      "* Copper:\n",
      "    Tl208: 0.00147 mBq/kg\n",
      "    Bi214: 0.012 mBq/kg\n",
      "\n",
      "* DiceBoard:\n",
      "    Tl208: 1.04 mBq/m**2\n",
      "    Bi214: 7.0 mBq/m**2\n",
      "\n",
      "* HDPE:\n",
      "    Tl208: 0.00755 mBq/kg\n",
      "    Bi214: 0.062 mBq/kg\n",
      "\n",
      "* SSteel316Ti:\n",
      "    Tl208: 0.0431 mBq/kg\n",
      "    Bi214: 0.46 mBq/kg\n"
     ]
    }
   ],
   "source": [
    "if VERBOSE:\n",
    "    print_activities(BKGND_LEVEL)"
   ]
  },
  {
   "cell_type": "markdown",
   "metadata": {},
   "source": [
    "# COMPUTING THE DETECTOR BACKGROUND LEVEL"
   ]
  },
  {
   "cell_type": "markdown",
   "metadata": {},
   "source": [
    "#### Radiogenic contributions\n",
    "\n",
    "In principle. only the contributions from the 'READOUT_PLANES', 'FIELD_CAGE' and 'INNER_SHIELDING' are considered.\n",
    "\n",
    "Backgrounds expressed in Becquerel"
   ]
  },
  {
   "cell_type": "code",
   "execution_count": 13,
   "metadata": {},
   "outputs": [
    {
     "data": {
      "text/html": [
       "<div>\n",
       "<style scoped>\n",
       "    .dataframe tbody tr th:only-of-type {\n",
       "        vertical-align: middle;\n",
       "    }\n",
       "\n",
       "    .dataframe tbody tr th {\n",
       "        vertical-align: top;\n",
       "    }\n",
       "\n",
       "    .dataframe thead th {\n",
       "        text-align: right;\n",
       "    }\n",
       "</style>\n",
       "<table border=\"1\" class=\"dataframe\">\n",
       "  <thead>\n",
       "    <tr style=\"text-align: right;\">\n",
       "      <th></th>\n",
       "      <th>Bi214</th>\n",
       "      <th>Tl208</th>\n",
       "      <th>Total</th>\n",
       "    </tr>\n",
       "    <tr>\n",
       "      <th>source</th>\n",
       "      <th></th>\n",
       "      <th></th>\n",
       "      <th></th>\n",
       "    </tr>\n",
       "  </thead>\n",
       "  <tbody>\n",
       "    <tr>\n",
       "      <th>READOUT_PLANE</th>\n",
       "      <td>0.074330</td>\n",
       "      <td>0.011043</td>\n",
       "      <td>0.085373</td>\n",
       "    </tr>\n",
       "    <tr>\n",
       "      <th>CATHODE</th>\n",
       "      <td>0.004878</td>\n",
       "      <td>0.000457</td>\n",
       "      <td>0.005336</td>\n",
       "    </tr>\n",
       "    <tr>\n",
       "      <th>FIELD_CAGE</th>\n",
       "      <td>0.012821</td>\n",
       "      <td>0.001561</td>\n",
       "      <td>0.014382</td>\n",
       "    </tr>\n",
       "    <tr>\n",
       "      <th>INNER_SHIELDING</th>\n",
       "      <td>0.458984</td>\n",
       "      <td>0.056225</td>\n",
       "      <td>0.515209</td>\n",
       "    </tr>\n",
       "  </tbody>\n",
       "</table>\n",
       "</div>"
      ],
      "text/plain": [
       "                    Bi214     Tl208     Total\n",
       "source                                       \n",
       "READOUT_PLANE    0.074330  0.011043  0.085373\n",
       "CATHODE          0.004878  0.000457  0.005336\n",
       "FIELD_CAGE       0.012821  0.001561  0.014382\n",
       "INNER_SHIELDING  0.458984  0.056225  0.515209"
      ]
     },
     "execution_count": 13,
     "metadata": {},
     "output_type": "execute_result"
    }
   ],
   "source": [
    "radiogenic_bkgnd = get_background_level(DETECTOR, BKGND_LEVEL)\n",
    "radiogenic_bkgnd['Total'] = radiogenic_bkgnd['Bi214'] + radiogenic_bkgnd['Tl208']\n",
    "radiogenic_bkgnd"
   ]
  },
  {
   "cell_type": "code",
   "execution_count": 14,
   "metadata": {},
   "outputs": [
    {
     "name": "stdout",
     "output_type": "stream",
     "text": [
      "Radiogenic 'next_hd' background: 0.6203 Bq.\n",
      "Total Bi214 background:    0.551 Bq.  ->  88.83 %\n",
      "\n",
      "Total Tl208 background:  0.06929 Bq.  ->  11.17 %\n",
      "\n",
      "Total READOUT_PLANE background:  0.08537 Bq.  ->  13.76 %\n",
      "Total CATHODE background:       0.005336 Bq.  ->  0.8602 %\n",
      "Total FIELD_CAGE background:     0.01438 Bq.  ->  2.319 %\n",
      "Total ICS background:             0.5152 Bq.  ->  83.06 %\n"
     ]
    }
   ],
   "source": [
    "if VERBOSE:\n",
    "    tot_bkgnd = radiogenic_bkgnd['Total'].sum()\n",
    "    print(f\"Radiogenic '{DETECTOR}' background: {tot_bkgnd:.4} Bq.\")\n",
    "    \n",
    "    tot_Bi = radiogenic_bkgnd['Bi214'].sum()\n",
    "    tot_Tl = radiogenic_bkgnd['Tl208'].sum()\n",
    "    print(f\"Total Bi214 background: {tot_Bi:8.4} Bq.  ->  {tot_Bi/tot_bkgnd*100:.4} %\")\n",
    "    print(f\"\\nTotal Tl208 background: {tot_Tl:8.4} Bq.  ->  {tot_Tl/tot_bkgnd*100:.4} %\")\n",
    "    \n",
    "    tot_READOUT_PLANE = radiogenic_bkgnd.loc['READOUT_PLANE'].Total\n",
    "    tot_CATHODE       = radiogenic_bkgnd.loc['CATHODE'].Total\n",
    "    tot_FIELD_CAGE    = radiogenic_bkgnd.loc['FIELD_CAGE'].Total\n",
    "    tot_ICS           = radiogenic_bkgnd.loc['INNER_SHIELDING', 'Total']\n",
    "    print(f\"\\nTotal READOUT_PLANE background: {tot_READOUT_PLANE:8.4} Bq.  ->  {tot_READOUT_PLANE/tot_bkgnd*100:.4} %\")\n",
    "    print(f\"Total CATHODE background:       {tot_CATHODE:8.4} Bq.  ->  {tot_CATHODE/tot_bkgnd*100:.4} %\")\n",
    "    print(f\"Total FIELD_CAGE background:    {tot_FIELD_CAGE:8.4} Bq.  ->  {tot_FIELD_CAGE/tot_bkgnd*100:.4} %\")\n",
    "    print(f\"Total ICS background:           {tot_ICS:8.4} Bq.  ->  {tot_ICS/tot_bkgnd*100:.4} %\")\n"
   ]
  },
  {
   "cell_type": "markdown",
   "metadata": {},
   "source": [
    "#### Radon contribution\n",
    "\n",
    "Its final contribution comes from an extra Bi214 concentration in the central CATHODE"
   ]
  },
  {
   "cell_type": "code",
   "execution_count": null,
   "metadata": {},
   "outputs": [],
   "source": [
    "# TO BE IMPLEMENTED"
   ]
  },
  {
   "cell_type": "markdown",
   "metadata": {},
   "source": [
    "#### Muons contribution\n",
    "\n",
    "Xe137 decay is the only muon contribution considered."
   ]
  },
  {
   "cell_type": "code",
   "execution_count": null,
   "metadata": {},
   "outputs": [],
   "source": [
    "# TO BE IMPLEMENTED"
   ]
  },
  {
   "cell_type": "markdown",
   "metadata": {},
   "source": [
    "# LOADING & SELECTING REJECTION FACTORS"
   ]
  },
  {
   "cell_type": "code",
   "execution_count": 15,
   "metadata": {},
   "outputs": [],
   "source": [
    "rej_factors = get_rejection_factors(DETECTOR)"
   ]
  },
  {
   "cell_type": "code",
   "execution_count": 16,
   "metadata": {
    "scrolled": true
   },
   "outputs": [
    {
     "name": "stdout",
     "output_type": "stream",
     "text": [
      "                                         bb0nu     Xe137         Tl208  \\\n",
      "source          energyRes spatialDef                                     \n",
      "ACTIVE          0.7       10x10x10    0.289450  0.000149           NaN   \n",
      "                0.5       3x3x3       0.245723  0.000052           NaN   \n",
      "READOUT_PLANE   0.7       10x10x10         NaN       NaN  3.117144e-07   \n",
      "                0.5       3x3x3            NaN       NaN  1.006543e-07   \n",
      "CATHODE         0.7       10x10x10         NaN       NaN           NaN   \n",
      "                0.5       3x3x3            NaN       NaN           NaN   \n",
      "FIELD_CAGE      0.7       10x10x10         NaN       NaN  2.006018e-07   \n",
      "                0.5       3x3x3            NaN       NaN  4.087890e-08   \n",
      "INNER_SHIELDING 0.7       10x10x10         NaN       NaN  1.333333e-07   \n",
      "                0.5       3x3x3            NaN       NaN  0.000000e+00   \n",
      "\n",
      "                                             Bi214  \n",
      "source          energyRes spatialDef                \n",
      "ACTIVE          0.7       10x10x10             NaN  \n",
      "                0.5       3x3x3                NaN  \n",
      "READOUT_PLANE   0.7       10x10x10    3.900000e-07  \n",
      "                0.5       3x3x3       5.000000e-08  \n",
      "CATHODE         0.7       10x10x10    3.882476e-07  \n",
      "                0.5       3x3x3       8.072654e-08  \n",
      "FIELD_CAGE      0.7       10x10x10    5.400000e-07  \n",
      "                0.5       3x3x3       7.070707e-08  \n",
      "INNER_SHIELDING 0.7       10x10x10    6.206206e-08  \n",
      "                0.5       3x3x3       1.000000e-08  \n"
     ]
    }
   ],
   "source": [
    "if VERBOSE:\n",
    "    print(rej_factors)"
   ]
  },
  {
   "cell_type": "markdown",
   "metadata": {},
   "source": [
    "### OPTIONS TO STUDY"
   ]
  },
  {
   "cell_type": "code",
   "execution_count": 17,
   "metadata": {},
   "outputs": [],
   "source": [
    "energyRes  = 0.7\n",
    "spatialDef = '10x10x10'"
   ]
  },
  {
   "cell_type": "markdown",
   "metadata": {},
   "source": [
    "#### Signal efficiency"
   ]
  },
  {
   "cell_type": "code",
   "execution_count": 18,
   "metadata": {},
   "outputs": [
    {
     "data": {
      "text/plain": [
       "0.28945"
      ]
     },
     "execution_count": 18,
     "metadata": {},
     "output_type": "execute_result"
    }
   ],
   "source": [
    "sig_eff = rej_factors.loc[pd.IndexSlice['ACTIVE', energyRes, spatialDef], 'bb0nu']\n",
    "sig_eff"
   ]
  },
  {
   "cell_type": "markdown",
   "metadata": {},
   "source": [
    "#### Radiogenic rejection_factors"
   ]
  },
  {
   "cell_type": "code",
   "execution_count": 19,
   "metadata": {},
   "outputs": [
    {
     "data": {
      "text/html": [
       "<div>\n",
       "<style scoped>\n",
       "    .dataframe tbody tr th:only-of-type {\n",
       "        vertical-align: middle;\n",
       "    }\n",
       "\n",
       "    .dataframe tbody tr th {\n",
       "        vertical-align: top;\n",
       "    }\n",
       "\n",
       "    .dataframe thead th {\n",
       "        text-align: right;\n",
       "    }\n",
       "</style>\n",
       "<table border=\"1\" class=\"dataframe\">\n",
       "  <thead>\n",
       "    <tr style=\"text-align: right;\">\n",
       "      <th></th>\n",
       "      <th></th>\n",
       "      <th></th>\n",
       "      <th>Bi214</th>\n",
       "      <th>Tl208</th>\n",
       "    </tr>\n",
       "    <tr>\n",
       "      <th>source</th>\n",
       "      <th>energyRes</th>\n",
       "      <th>spatialDef</th>\n",
       "      <th></th>\n",
       "      <th></th>\n",
       "    </tr>\n",
       "  </thead>\n",
       "  <tbody>\n",
       "    <tr>\n",
       "      <th>READOUT_PLANE</th>\n",
       "      <th>0.7</th>\n",
       "      <th>10x10x10</th>\n",
       "      <td>3.900000e-07</td>\n",
       "      <td>3.117144e-07</td>\n",
       "    </tr>\n",
       "    <tr>\n",
       "      <th>CATHODE</th>\n",
       "      <th>0.7</th>\n",
       "      <th>10x10x10</th>\n",
       "      <td>3.882476e-07</td>\n",
       "      <td>NaN</td>\n",
       "    </tr>\n",
       "    <tr>\n",
       "      <th>FIELD_CAGE</th>\n",
       "      <th>0.7</th>\n",
       "      <th>10x10x10</th>\n",
       "      <td>5.400000e-07</td>\n",
       "      <td>2.006018e-07</td>\n",
       "    </tr>\n",
       "    <tr>\n",
       "      <th>INNER_SHIELDING</th>\n",
       "      <th>0.7</th>\n",
       "      <th>10x10x10</th>\n",
       "      <td>6.206206e-08</td>\n",
       "      <td>1.333333e-07</td>\n",
       "    </tr>\n",
       "  </tbody>\n",
       "</table>\n",
       "</div>"
      ],
      "text/plain": [
       "                                             Bi214         Tl208\n",
       "source          energyRes spatialDef                            \n",
       "READOUT_PLANE   0.7       10x10x10    3.900000e-07  3.117144e-07\n",
       "CATHODE         0.7       10x10x10    3.882476e-07           NaN\n",
       "FIELD_CAGE      0.7       10x10x10    5.400000e-07  2.006018e-07\n",
       "INNER_SHIELDING 0.7       10x10x10    6.206206e-08  1.333333e-07"
      ]
     },
     "execution_count": 19,
     "metadata": {},
     "output_type": "execute_result"
    }
   ],
   "source": [
    "radiogenic_rejections = rej_factors.loc[pd.IndexSlice[:, energyRes, spatialDef], ['Bi214', 'Tl208']]\n",
    "radiogenic_rejections.drop('ACTIVE', level=0, axis=0, inplace=True)\n",
    "radiogenic_rejections"
   ]
  },
  {
   "cell_type": "markdown",
   "metadata": {},
   "source": [
    "#### Radon rejection_factor"
   ]
  },
  {
   "cell_type": "markdown",
   "metadata": {},
   "source": [
    "As in previos NEXT detectors we assume that the whole amount of Radon contamination is translated to Bi214 contamination from the CATHODE."
   ]
  },
  {
   "cell_type": "code",
   "execution_count": 36,
   "metadata": {},
   "outputs": [],
   "source": [
    "radon_rejection  = rej_factors.loc[pd.IndexSlice['CATHODE', energyRes, spatialDef], 'Bi214']"
   ]
  },
  {
   "cell_type": "code",
   "execution_count": 37,
   "metadata": {},
   "outputs": [
    {
     "name": "stdout",
     "output_type": "stream",
     "text": [
      "Radon rejection factor:       3.882e-07\n"
     ]
    }
   ],
   "source": [
    "if VERBOSE:\n",
    "    print(f\"Radon rejection factor:       {radon_rejection:.4}\")"
   ]
  },
  {
   "cell_type": "markdown",
   "metadata": {},
   "source": [
    "#### Muons rejection_factors"
   ]
  },
  {
   "cell_type": "markdown",
   "metadata": {},
   "source": [
    "The muons rejection factor = Xe137_activation * Xe137_rejection"
   ]
  },
  {
   "cell_type": "code",
   "execution_count": 31,
   "metadata": {},
   "outputs": [],
   "source": [
    "#Xe137_activation = XXXXX\n",
    "Xe137_rejection = rej_factors.loc[pd.IndexSlice['ACTIVE', energyRes, spatialDef], 'Xe137']\n",
    "#muon_rejection = Xe137_activation * Xe137_rejection"
   ]
  },
  {
   "cell_type": "code",
   "execution_count": 35,
   "metadata": {},
   "outputs": [
    {
     "name": "stdout",
     "output_type": "stream",
     "text": [
      "Xe137 activation probability: XXXXX\n",
      "Xe137 rejection factor:       0.0001486\n",
      "\n",
      "Muons rejection factor:       XXXXX\n"
     ]
    }
   ],
   "source": [
    "if VERBOSE:\n",
    "    print(f\"Xe137 activation probability: XXXXX\")\n",
    "    print(f\"Xe137 rejection factor:       {Xe137_rejection:.4}\")\n",
    "    print(f\"\\nMuons rejection factor:       XXXXX\")"
   ]
  },
  {
   "cell_type": "code",
   "execution_count": null,
   "metadata": {},
   "outputs": [],
   "source": []
  },
  {
   "cell_type": "code",
   "execution_count": null,
   "metadata": {},
   "outputs": [],
   "source": []
  },
  {
   "cell_type": "markdown",
   "metadata": {},
   "source": [
    "# COMPUTING THE DETECTOR BACKGROUND INDEX"
   ]
  },
  {
   "cell_type": "markdown",
   "metadata": {},
   "source": [
    "#### Estimating the Bq -> ckky conversion factor "
   ]
  },
  {
   "cell_type": "code",
   "execution_count": 23,
   "metadata": {},
   "outputs": [],
   "source": [
    "secs_in_year    = 60 * 60 * 24 * 365\n",
    "Xe136_abundance = 0.9026\n",
    "Xe136_mass_kg   = det_dim['ACTIVE_mass'] * Xe136_abundance / units.kg\n",
    "ROI_settings    = get_roi_settings(energyRes)"
   ]
  },
  {
   "cell_type": "code",
   "execution_count": 24,
   "metadata": {},
   "outputs": [],
   "source": [
    "toCKKY = secs_in_year / Xe136_mass_kg / ((ROI_settings['Emax'] - ROI_settings['Emin']) / units.keV)"
   ]
  },
  {
   "cell_type": "code",
   "execution_count": 25,
   "metadata": {},
   "outputs": [
    {
     "name": "stdout",
     "output_type": "stream",
     "text": [
      "Xe136 mass: 1.109e+03 kg.\n",
      "ROI: [2.453e+03, 2.475e+03] keV.\n",
      "toCKKY factor: 1.293e+03\n"
     ]
    }
   ],
   "source": [
    "if VERBOSE:\n",
    "    print(f\"Xe136 mass: {Xe136_mass_kg:.4} kg.\")\n",
    "    print(f\"ROI: [{ROI_settings['Emin']/units.keV:.4}, {ROI_settings['Emax']/units.keV:.4}] keV.\")\n",
    "    print(f\"toCKKY factor: {toCKKY:.4}\")"
   ]
  },
  {
   "cell_type": "markdown",
   "metadata": {},
   "source": [
    "#### Radiogenic background index"
   ]
  },
  {
   "cell_type": "code",
   "execution_count": 26,
   "metadata": {},
   "outputs": [
    {
     "data": {
      "text/html": [
       "<div>\n",
       "<style scoped>\n",
       "    .dataframe tbody tr th:only-of-type {\n",
       "        vertical-align: middle;\n",
       "    }\n",
       "\n",
       "    .dataframe tbody tr th {\n",
       "        vertical-align: top;\n",
       "    }\n",
       "\n",
       "    .dataframe thead th {\n",
       "        text-align: right;\n",
       "    }\n",
       "</style>\n",
       "<table border=\"1\" class=\"dataframe\">\n",
       "  <thead>\n",
       "    <tr style=\"text-align: right;\">\n",
       "      <th></th>\n",
       "      <th></th>\n",
       "      <th></th>\n",
       "      <th>Bi214</th>\n",
       "      <th>Tl208</th>\n",
       "      <th>Total</th>\n",
       "    </tr>\n",
       "    <tr>\n",
       "      <th>source</th>\n",
       "      <th>energyRes</th>\n",
       "      <th>spatialDef</th>\n",
       "      <th></th>\n",
       "      <th></th>\n",
       "      <th></th>\n",
       "    </tr>\n",
       "  </thead>\n",
       "  <tbody>\n",
       "    <tr>\n",
       "      <th>READOUT_PLANE</th>\n",
       "      <th>0.7</th>\n",
       "      <th>10x10x10</th>\n",
       "      <td>0.000037</td>\n",
       "      <td>4.449851e-06</td>\n",
       "      <td>0.000042</td>\n",
       "    </tr>\n",
       "    <tr>\n",
       "      <th>CATHODE</th>\n",
       "      <th>0.7</th>\n",
       "      <th>10x10x10</th>\n",
       "      <td>0.000002</td>\n",
       "      <td>NaN</td>\n",
       "      <td>0.000002</td>\n",
       "    </tr>\n",
       "    <tr>\n",
       "      <th>FIELD_CAGE</th>\n",
       "      <th>0.7</th>\n",
       "      <th>10x10x10</th>\n",
       "      <td>0.000009</td>\n",
       "      <td>4.048610e-07</td>\n",
       "      <td>0.000009</td>\n",
       "    </tr>\n",
       "    <tr>\n",
       "      <th>INNER_SHIELDING</th>\n",
       "      <th>0.7</th>\n",
       "      <th>10x10x10</th>\n",
       "      <td>0.000037</td>\n",
       "      <td>9.690824e-06</td>\n",
       "      <td>0.000047</td>\n",
       "    </tr>\n",
       "  </tbody>\n",
       "</table>\n",
       "</div>"
      ],
      "text/plain": [
       "                                         Bi214         Tl208     Total\n",
       "source          energyRes spatialDef                                  \n",
       "READOUT_PLANE   0.7       10x10x10    0.000037  4.449851e-06  0.000042\n",
       "CATHODE         0.7       10x10x10    0.000002           NaN  0.000002\n",
       "FIELD_CAGE      0.7       10x10x10    0.000009  4.048610e-07  0.000009\n",
       "INNER_SHIELDING 0.7       10x10x10    0.000037  9.690824e-06  0.000047"
      ]
     },
     "execution_count": 26,
     "metadata": {},
     "output_type": "execute_result"
    }
   ],
   "source": [
    "radiogenic_bkgnd_index_Bq = radiogenic_bkgnd[['Bi214', 'Tl208']] * radiogenic_rejections[['Bi214', 'Tl208']]\n",
    "radiogenic_bkgnd_index_Bq['Total'] = radiogenic_bkgnd_index_Bq['Bi214'].add(radiogenic_bkgnd_index_Bq['Tl208'],\n",
    "                                                                            fill_value = 0.)\n",
    "radiogenic_bkgnd_index = radiogenic_bkgnd_index_Bq * toCKKY\n",
    "radiogenic_bkgnd_index"
   ]
  },
  {
   "cell_type": "code",
   "execution_count": 27,
   "metadata": {},
   "outputs": [
    {
     "name": "stdout",
     "output_type": "stream",
     "text": [
      "Radiogenic 'next_hd' background index: 0.0001002 ckky\n",
      "\n",
      "Total Bi214 background index: 8.569e-05 Bq.  ->  85.49 %\n",
      "Total Tl208 background index: 1.455e-05 Bq.  ->  14.51 %\n",
      "\n",
      "Total READOUT_PLANE background index: 4.192e-05 ckky.  ->  41.82 %\n",
      "Total CATHODE       background index: 2.448e-06 ckky.  ->  2.443 %\n",
      "Total FIELD_CAGE    background index: 9.355e-06 ckky.  ->  9.332 %\n",
      "Total ICS           background index: 4.651e-05 ckky.  ->  46.4 %\n"
     ]
    }
   ],
   "source": [
    "if VERBOSE:\n",
    "    tot_bkgnd = radiogenic_bkgnd_index['Total'].sum()\n",
    "    print(f\"Radiogenic '{DETECTOR}' background index: {tot_bkgnd:.4} ckky\")\n",
    "    \n",
    "    tot_Bi = radiogenic_bkgnd_index['Bi214'].sum()\n",
    "    tot_Tl = radiogenic_bkgnd_index['Tl208'].sum()\n",
    "    print(f\"\\nTotal Bi214 background index: {tot_Bi:8.4} Bq.  ->  {tot_Bi/tot_bkgnd*100:.4} %\")\n",
    "    print(f\"Total Tl208 background index: {tot_Tl:8.4} Bq.  ->  {tot_Tl/tot_bkgnd*100:.4} %\")\n",
    "    \n",
    "    tot_READOUT_PLANE = radiogenic_bkgnd_index.loc[pd.IndexSlice['READOUT_PLANE', energyRes, spatialDef]].Total\n",
    "    tot_CATHODE       = radiogenic_bkgnd_index.loc[pd.IndexSlice['CATHODE', energyRes, spatialDef]].Total\n",
    "    tot_FIELD_CAGE    = radiogenic_bkgnd_index.loc[pd.IndexSlice['FIELD_CAGE', energyRes, spatialDef]].Total\n",
    "    tot_ICS           = radiogenic_bkgnd_index.loc[pd.IndexSlice['INNER_SHIELDING', energyRes, spatialDef]].Total\n",
    "    print(f\"\\nTotal READOUT_PLANE background index: {tot_READOUT_PLANE:8.4} ckky.  ->  {tot_READOUT_PLANE/tot_bkgnd*100:.4} %\")\n",
    "    print(f\"Total CATHODE       background index: {tot_CATHODE:8.4} ckky.  ->  {tot_CATHODE/tot_bkgnd*100:.4} %\")\n",
    "    print(f\"Total FIELD_CAGE    background index: {tot_FIELD_CAGE:8.4} ckky.  ->  {tot_FIELD_CAGE/tot_bkgnd*100:.4} %\")\n",
    "    print(f\"Total ICS           background index: {tot_ICS:8.4} ckky.  ->  {tot_ICS/tot_bkgnd*100:.4} %\")\n"
   ]
  },
  {
   "cell_type": "markdown",
   "metadata": {},
   "source": [
    "#### Radon background index"
   ]
  },
  {
   "cell_type": "code",
   "execution_count": null,
   "metadata": {},
   "outputs": [],
   "source": [
    "# TO BE IMPLEMENTED"
   ]
  },
  {
   "cell_type": "code",
   "execution_count": null,
   "metadata": {},
   "outputs": [],
   "source": []
  },
  {
   "cell_type": "markdown",
   "metadata": {},
   "source": [
    "#### Muons background index"
   ]
  },
  {
   "cell_type": "code",
   "execution_count": null,
   "metadata": {},
   "outputs": [],
   "source": [
    "# TO BE IMPLEMENTED"
   ]
  },
  {
   "cell_type": "code",
   "execution_count": null,
   "metadata": {},
   "outputs": [],
   "source": []
  },
  {
   "cell_type": "markdown",
   "metadata": {},
   "source": [
    "# SENSITIVITY"
   ]
  },
  {
   "cell_type": "code",
   "execution_count": null,
   "metadata": {},
   "outputs": [],
   "source": [
    "#from pybbsens import isotope"
   ]
  },
  {
   "cell_type": "code",
   "execution_count": null,
   "metadata": {},
   "outputs": [],
   "source": []
  },
  {
   "cell_type": "code",
   "execution_count": null,
   "metadata": {},
   "outputs": [],
   "source": []
  }
 ],
 "metadata": {
  "kernelspec": {
   "display_name": "Python 3",
   "language": "python",
   "name": "python3"
  },
  "language_info": {
   "codemirror_mode": {
    "name": "ipython",
    "version": 3
   },
   "file_extension": ".py",
   "mimetype": "text/x-python",
   "name": "python",
   "nbconvert_exporter": "python",
   "pygments_lexer": "ipython3",
   "version": "3.7.1"
  }
 },
 "nbformat": 4,
 "nbformat_minor": 2
}
