{
 "cells": [
  {
   "cell_type": "markdown",
   "metadata": {},
   "source": [
    "<p style=\"font-family: Arial; font-size:3.75em;color:purple; font-style:bold\">\n",
    "<br>NEXT TONNE - BACKGROUND INDEX</p><br>"
   ]
  },
  {
   "cell_type": "code",
   "execution_count": null,
   "metadata": {},
   "outputs": [],
   "source": [
    "from IPython.core.display import HTML\n",
    "css = open('style-table.css').read() + open('style-notebook.css').read()\n",
    "HTML('<style>{}</style>'.format(css))"
   ]
  },
  {
   "cell_type": "code",
   "execution_count": null,
   "metadata": {},
   "outputs": [],
   "source": [
    "%load_ext autoreload\n",
    "%autoreload 2"
   ]
  },
  {
   "cell_type": "code",
   "execution_count": null,
   "metadata": {},
   "outputs": [],
   "source": [
    "# General importings\n",
    "import math\n",
    "import numpy             as np\n",
    "import tables            as tb\n",
    "import pandas            as pd\n",
    "import matplotlib.pyplot as plt\n",
    "\n",
    "# IC stuff\n",
    "import invisible_cities.core.system_of_units as units\n",
    "\n",
    "# TONNE stuff\n",
    "from detector_dimensions  import get_dimensions\n",
    "from detector_dimensions  import print_dimensions\n",
    "\n",
    "from material_activities  import get_activities\n",
    "from material_activities  import print_activities\n",
    "\n",
    "from detector_backgrounds import get_background_level\n",
    "from rejection_factors    import get_rejection_factors\n",
    "from roi_settings         import get_roi_settings\n"
   ]
  },
  {
   "cell_type": "markdown",
   "metadata": {},
   "source": [
    "# DETAILS OF ANALYSIS"
   ]
  },
  {
   "cell_type": "code",
   "execution_count": null,
   "metadata": {},
   "outputs": [],
   "source": [
    "# VERBOSITY\n",
    "VERBOSE = True\n",
    "\n",
    "# Available detectors: \"next_2x2\", \"next_3x3\", \"next_hd\"\n",
    "DETECTOR = 'next_hd'\n",
    "\n",
    "# Available background levels: \"reference\", \"probable\", \"optimistic\"\n",
    "BKGND_LEVEL = 'reference'"
   ]
  },
  {
   "cell_type": "markdown",
   "metadata": {},
   "source": [
    "# LOADING DETECTOR DATA"
   ]
  },
  {
   "cell_type": "code",
   "execution_count": null,
   "metadata": {},
   "outputs": [],
   "source": [
    "det_dim = get_dimensions(DETECTOR)"
   ]
  },
  {
   "cell_type": "code",
   "execution_count": null,
   "metadata": {},
   "outputs": [],
   "source": [
    "if VERBOSE:\n",
    "    print_dimensions(DETECTOR)"
   ]
  },
  {
   "cell_type": "code",
   "execution_count": null,
   "metadata": {},
   "outputs": [],
   "source": [
    "mat_act = get_activities(BKGND_LEVEL)"
   ]
  },
  {
   "cell_type": "code",
   "execution_count": null,
   "metadata": {},
   "outputs": [],
   "source": [
    "if VERBOSE:\n",
    "    print_activities(BKGND_LEVEL)"
   ]
  },
  {
   "cell_type": "markdown",
   "metadata": {},
   "source": [
    "# COMPUTING THE DETECTOR BACKGROUND LEVEL"
   ]
  },
  {
   "cell_type": "markdown",
   "metadata": {},
   "source": [
    "#### Radiogenic contributions\n",
    "\n",
    "In principle. only the contributions from the 'READOUT_PLANES', 'FIELD_CAGE' and 'INNER_SHIELDING' are considered.\n",
    "\n",
    "Backgrounds expressed in Becquerel"
   ]
  },
  {
   "cell_type": "code",
   "execution_count": null,
   "metadata": {},
   "outputs": [],
   "source": [
    "radiogenic_bkgnd = get_background_level(DETECTOR, BKGND_LEVEL)\n",
    "radiogenic_bkgnd['Total'] = radiogenic_bkgnd['Bi214'] + radiogenic_bkgnd['Tl208']\n",
    "radiogenic_bkgnd"
   ]
  },
  {
   "cell_type": "code",
   "execution_count": null,
   "metadata": {},
   "outputs": [],
   "source": [
    "if VERBOSE:\n",
    "    tot_bkgnd = radiogenic_bkgnd['Total'].sum()\n",
    "    print(f\"Radiogenic '{DETECTOR}' background: {tot_bkgnd:.4} Bq.\")\n",
    "    \n",
    "    tot_Bi = radiogenic_bkgnd['Bi214'].sum()\n",
    "    tot_Tl = radiogenic_bkgnd['Tl208'].sum()\n",
    "    print(f\"Total Bi214 background: {tot_Bi:8.4} Bq.  ->  {tot_Bi/tot_bkgnd*100:.4} %\")\n",
    "    print(f\"\\nTotal Tl208 background: {tot_Tl:8.4} Bq.  ->  {tot_Tl/tot_bkgnd*100:.4} %\")\n",
    "    \n",
    "    tot_READOUT_PLANE = radiogenic_bkgnd.loc['READOUT_PLANE'].Total\n",
    "    tot_CATHODE       = radiogenic_bkgnd.loc['CATHODE'].Total\n",
    "    tot_FIELD_CAGE    = radiogenic_bkgnd.loc['FIELD_CAGE'].Total\n",
    "    tot_ICS           = radiogenic_bkgnd.loc['INNER_SHIELDING', 'Total']\n",
    "    print(f\"\\nTotal READOUT_PLANE background: {tot_READOUT_PLANE:8.4} Bq.  ->  {tot_READOUT_PLANE/tot_bkgnd*100:.4} %\")\n",
    "    print(f\"Total CATHODE background:       {tot_CATHODE:8.4} Bq.  ->  {tot_CATHODE/tot_bkgnd*100:.4} %\")\n",
    "    print(f\"Total FIELD_CAGE background:    {tot_FIELD_CAGE:8.4} Bq.  ->  {tot_FIELD_CAGE/tot_bkgnd*100:.4} %\")\n",
    "    print(f\"Total ICS background:           {tot_ICS:8.4} Bq.  ->  {tot_ICS/tot_bkgnd*100:.4} %\")\n"
   ]
  },
  {
   "cell_type": "markdown",
   "metadata": {},
   "source": [
    "#### Radon contribution\n",
    "\n",
    "Its final contribution comes from an extra Bi214 concentration in the central CATHODE"
   ]
  },
  {
   "cell_type": "code",
   "execution_count": null,
   "metadata": {},
   "outputs": [],
   "source": [
    "# TO BE IMPLEMENTED"
   ]
  },
  {
   "cell_type": "markdown",
   "metadata": {},
   "source": [
    "#### Muons contribution\n",
    "\n",
    "Xe137 decay is the only muon contribution considered."
   ]
  },
  {
   "cell_type": "code",
   "execution_count": null,
   "metadata": {},
   "outputs": [],
   "source": [
    "# TO BE IMPLEMENTED"
   ]
  },
  {
   "cell_type": "markdown",
   "metadata": {},
   "source": [
    "# LOADING & SELECTING REJECTION FACTORS"
   ]
  },
  {
   "cell_type": "code",
   "execution_count": null,
   "metadata": {},
   "outputs": [],
   "source": [
    "rej_factors = get_rejection_factors(DETECTOR)\n",
    "rej_factors"
   ]
  },
  {
   "cell_type": "markdown",
   "metadata": {},
   "source": [
    "### OPTIONS TO STUDY"
   ]
  },
  {
   "cell_type": "code",
   "execution_count": null,
   "metadata": {},
   "outputs": [],
   "source": [
    "energyRes  = 0.7\n",
    "spatialDef = '10x10x10'"
   ]
  },
  {
   "cell_type": "markdown",
   "metadata": {},
   "source": [
    "#### Signal efficiency"
   ]
  },
  {
   "cell_type": "code",
   "execution_count": null,
   "metadata": {},
   "outputs": [],
   "source": [
    "sig_eff = rej_factors.loc[pd.IndexSlice['ACTIVE', energyRes, spatialDef], 'bb0nu']\n",
    "sig_eff"
   ]
  },
  {
   "cell_type": "markdown",
   "metadata": {},
   "source": [
    "#### Radiogenic rejection_factors"
   ]
  },
  {
   "cell_type": "code",
   "execution_count": null,
   "metadata": {},
   "outputs": [],
   "source": [
    "radiogenic_rejections = rej_factors.loc[pd.IndexSlice[:, energyRes, spatialDef], ['Bi214', 'Tl208']]\n",
    "radiogenic_rejections.drop('ACTIVE', level=0, axis=0, inplace=True)\n",
    "radiogenic_rejections"
   ]
  },
  {
   "cell_type": "markdown",
   "metadata": {},
   "source": [
    "#### Radon rejection_factor"
   ]
  },
  {
   "cell_type": "markdown",
   "metadata": {},
   "source": [
    "As in previos NEXT detectors we assume that the whole amount of Radon contamination is translated to Bi214 contamination from the CATHODE."
   ]
  },
  {
   "cell_type": "code",
   "execution_count": null,
   "metadata": {},
   "outputs": [],
   "source": [
    "radon_rejection  = rej_factors.loc[pd.IndexSlice['CATHODE', energyRes, spatialDef], 'Bi214']\n",
    "print(f\"Radon rejection factor:       {radon_rejection:.4}\")"
   ]
  },
  {
   "cell_type": "markdown",
   "metadata": {},
   "source": [
    "#### Muons rejection_factors"
   ]
  },
  {
   "cell_type": "markdown",
   "metadata": {},
   "source": [
    "The muons rejection factor = Xe137_activation * Xe137_rejection"
   ]
  },
  {
   "cell_type": "code",
   "execution_count": null,
   "metadata": {},
   "outputs": [],
   "source": [
    "#Xe137_activation = XXXXX\n",
    "Xe137_rejection = rej_factors.loc[pd.IndexSlice['ACTIVE', energyRes, spatialDef], 'Xe137']\n",
    "#muon_rejection = Xe137_activation * Xe137_rejection"
   ]
  },
  {
   "cell_type": "code",
   "execution_count": null,
   "metadata": {},
   "outputs": [],
   "source": [
    "if VERBOSE:\n",
    "    print(f\"Xe137 activation probability: XXXXX\")\n",
    "    print(f\"Xe137 rejection factor:       {Xe137_rejection:.4}\")\n",
    "print(f\"\\nMuons rejection factor:       XXXXX\")"
   ]
  },
  {
   "cell_type": "code",
   "execution_count": null,
   "metadata": {},
   "outputs": [],
   "source": []
  },
  {
   "cell_type": "code",
   "execution_count": null,
   "metadata": {},
   "outputs": [],
   "source": []
  },
  {
   "cell_type": "markdown",
   "metadata": {},
   "source": [
    "# COMPUTING THE DETECTOR BACKGROUND INDEX"
   ]
  },
  {
   "cell_type": "markdown",
   "metadata": {},
   "source": [
    "#### Estimating the Bq -> ckky conversion factor "
   ]
  },
  {
   "cell_type": "code",
   "execution_count": null,
   "metadata": {},
   "outputs": [],
   "source": [
    "secs_in_year    = 60 * 60 * 24 * 365\n",
    "Xe136_abundance = 0.9026\n",
    "Xe136_mass_kg   = det_dim['ACTIVE_mass'] * Xe136_abundance / units.kg\n",
    "ROI_settings    = get_roi_settings(energyRes)"
   ]
  },
  {
   "cell_type": "code",
   "execution_count": null,
   "metadata": {},
   "outputs": [],
   "source": [
    "toCKKY = secs_in_year / Xe136_mass_kg / ((ROI_settings['Emax'] - ROI_settings['Emin']) / units.keV)"
   ]
  },
  {
   "cell_type": "code",
   "execution_count": null,
   "metadata": {},
   "outputs": [],
   "source": [
    "if VERBOSE:\n",
    "    print(f\"Xe136 mass: {Xe136_mass_kg:.4} kg.\")\n",
    "    print(f\"ROI: [{ROI_settings['Emin']/units.keV:.4}, {ROI_settings['Emax']/units.keV:.4}] keV.\")\n",
    "    print(f\"toCKKY factor: {toCKKY:.4}\")"
   ]
  },
  {
   "cell_type": "markdown",
   "metadata": {},
   "source": [
    "#### Radiogenic background index"
   ]
  },
  {
   "cell_type": "code",
   "execution_count": null,
   "metadata": {
    "scrolled": true
   },
   "outputs": [],
   "source": [
    "radiogenic_bkgnd_index_Bq = radiogenic_bkgnd[['Bi214', 'Tl208']] * radiogenic_rejections[['Bi214', 'Tl208']]\n",
    "radiogenic_bkgnd_index_Bq['Total'] = radiogenic_bkgnd_index_Bq['Bi214'].add(radiogenic_bkgnd_index_Bq['Tl208'],\n",
    "                                                                            fill_value = 0.)\n",
    "radiogenic_bkgnd_index = radiogenic_bkgnd_index_Bq * toCKKY\n",
    "radiogenic_bkgnd_index"
   ]
  },
  {
   "cell_type": "code",
   "execution_count": null,
   "metadata": {},
   "outputs": [],
   "source": [
    "if VERBOSE:\n",
    "    tot_bkgnd = radiogenic_bkgnd_index['Total'].sum()\n",
    "    print(f\"Radiogenic '{DETECTOR}' background index: {tot_bkgnd:8.3} ckky\")\n",
    "    \n",
    "    tot_Bi = radiogenic_bkgnd_index['Bi214'].sum()\n",
    "    tot_Tl = radiogenic_bkgnd_index['Tl208'].sum()\n",
    "    print(f\"\\nTotal Bi214 background index: {tot_Bi:8.3} Bq.  ->  {tot_Bi/tot_bkgnd*100:.4} %\")\n",
    "    print(f\"Total Tl208 background index: {tot_Tl:8.3} Bq.  ->  {tot_Tl/tot_bkgnd*100:.4} %\")\n",
    "    \n",
    "    tot_READOUT_PLANE = radiogenic_bkgnd_index.loc[pd.IndexSlice['READOUT_PLANE', energyRes, spatialDef]].Total\n",
    "    tot_CATHODE       = radiogenic_bkgnd_index.loc[pd.IndexSlice['CATHODE', energyRes, spatialDef]].Total\n",
    "    tot_FIELD_CAGE    = radiogenic_bkgnd_index.loc[pd.IndexSlice['FIELD_CAGE', energyRes, spatialDef]].Total\n",
    "    tot_ICS           = radiogenic_bkgnd_index.loc[pd.IndexSlice['INNER_SHIELDING', energyRes, spatialDef]].Total\n",
    "    print(f\"\\nTotal READOUT_PLANE background index: {tot_READOUT_PLANE:8.3} ckky.  ->  {tot_READOUT_PLANE/tot_bkgnd*100:6.4} %\")\n",
    "    print(f\"Total CATHODE       background index: {tot_CATHODE:8.3} ckky.  ->  {tot_CATHODE/tot_bkgnd*100:6.4} %\")\n",
    "    print(f\"Total FIELD_CAGE    background index: {tot_FIELD_CAGE:8.3} ckky.  ->  {tot_FIELD_CAGE/tot_bkgnd*100:6.4} %\")\n",
    "    print(f\"Total ICS           background index: {tot_ICS:8.3} ckky.  ->  {tot_ICS/tot_bkgnd*100:6.4} %\")\n"
   ]
  },
  {
   "cell_type": "markdown",
   "metadata": {},
   "source": [
    "#### Radon background index"
   ]
  },
  {
   "cell_type": "code",
   "execution_count": null,
   "metadata": {},
   "outputs": [],
   "source": [
    "# TO BE IMPLEMENTED"
   ]
  },
  {
   "cell_type": "code",
   "execution_count": null,
   "metadata": {},
   "outputs": [],
   "source": []
  },
  {
   "cell_type": "markdown",
   "metadata": {},
   "source": [
    "#### Muons background index"
   ]
  },
  {
   "cell_type": "code",
   "execution_count": null,
   "metadata": {},
   "outputs": [],
   "source": [
    "# TO BE IMPLEMENTED"
   ]
  },
  {
   "cell_type": "code",
   "execution_count": null,
   "metadata": {},
   "outputs": [],
   "source": []
  },
  {
   "cell_type": "markdown",
   "metadata": {},
   "source": [
    "# SENSITIVITY"
   ]
  },
  {
   "cell_type": "code",
   "execution_count": null,
   "metadata": {},
   "outputs": [],
   "source": [
    "#from pybbsens import isotope"
   ]
  },
  {
   "cell_type": "code",
   "execution_count": null,
   "metadata": {},
   "outputs": [],
   "source": []
  },
  {
   "cell_type": "code",
   "execution_count": null,
   "metadata": {},
   "outputs": [],
   "source": []
  }
 ],
 "metadata": {
  "kernelspec": {
   "display_name": "Python 3",
   "language": "python",
   "name": "python3"
  },
  "language_info": {
   "codemirror_mode": {
    "name": "ipython",
    "version": 3
   },
   "file_extension": ".py",
   "mimetype": "text/x-python",
   "name": "python",
   "nbconvert_exporter": "python",
   "pygments_lexer": "ipython3",
   "version": "3.7.1"
  }
 },
 "nbformat": 4,
 "nbformat_minor": 2
}
