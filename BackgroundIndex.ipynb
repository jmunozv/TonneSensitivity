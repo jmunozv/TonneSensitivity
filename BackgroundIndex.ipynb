{
 "cells": [
  {
   "cell_type": "markdown",
   "metadata": {},
   "source": [
    "<p style=\"font-family: Arial; font-size:3.75em;color:purple; font-style:bold\">\n",
    "<br>NEXT TONNE - BKGND INDEX</p><br>"
   ]
  },
  {
   "cell_type": "code",
   "execution_count": 2,
   "metadata": {},
   "outputs": [
    {
     "data": {
      "text/html": [
       "<style>body {\n",
       "    margin: 0;\n",
       "    font-family: Helvetica;\n",
       "}\n",
       "table.dataframe {\n",
       "    border-collapse: collapse;\n",
       "    border: none;\n",
       "}\n",
       "table.dataframe tr {\n",
       "    border: none;\n",
       "}\n",
       "table.dataframe td, table.dataframe th {\n",
       "    margin: 0;\n",
       "    border: 1px solid white;\n",
       "    padding-left: 0.25em;\n",
       "    padding-right: 0.25em;\n",
       "}\n",
       "table.dataframe th:not(:empty) {\n",
       "    background-color: #fec;\n",
       "    text-align: left;\n",
       "    font-weight: normal;\n",
       "}\n",
       "table.dataframe tr:nth-child(2) th:empty {\n",
       "    border-left: none;\n",
       "    border-right: 1px dashed #888;\n",
       "}\n",
       "table.dataframe td {\n",
       "    border: 2px solid #ccf;\n",
       "    background-color: #f4f4ff;\n",
       "}\n",
       "h3 {\n",
       "    color: white;\n",
       "    background-color: black;\n",
       "    padding: 0.5em;\n",
       "}\n",
       "</style>"
      ],
      "text/plain": [
       "<IPython.core.display.HTML object>"
      ]
     },
     "execution_count": 2,
     "metadata": {},
     "output_type": "execute_result"
    }
   ],
   "source": [
    "from IPython.core.display import HTML\n",
    "css = open('css/style-table.css').read() + open('css/style-notebook.css').read()\n",
    "HTML('<style>{}</style>'.format(css))"
   ]
  },
  {
   "cell_type": "code",
   "execution_count": 3,
   "metadata": {},
   "outputs": [],
   "source": [
    "%load_ext autoreload\n",
    "%autoreload 2"
   ]
  },
  {
   "cell_type": "code",
   "execution_count": 5,
   "metadata": {},
   "outputs": [],
   "source": [
    "# General importings\n",
    "import math\n",
    "import numpy             as np\n",
    "import tables            as tb\n",
    "import pandas            as pd\n",
    "import matplotlib.pyplot as plt\n",
    "\n",
    "# IC stuff\n",
    "import invisible_cities.core.system_of_units as units\n",
    "\n",
    "# TONNE stuff\n",
    "from detector_dimensions  import get_dimensions\n",
    "from detector_dimensions  import print_dimensions\n",
    "\n",
    "from initial_activities  import get_radiogenic_activities\n",
    "from initial_activities  import get_radon_activity\n",
    "from initial_activities  import get_muon_flux\n",
    "from initial_activities  import get_muon_flux_error\n",
    "from initial_activities  import print_initial_activities\n",
    "\n",
    "from detector_backgrounds import get_radiogenic_background_level\n",
    "from detector_backgrounds import get_radon_background_level\n",
    "from detector_backgrounds import get_muon_background_level\n",
    "\n",
    "from rejection_factors    import get_rejection_factors\n",
    "from roi_settings         import get_roi_settings\n"
   ]
  },
  {
   "cell_type": "markdown",
   "metadata": {},
   "source": [
    "# DETAILS OF ANALYSIS"
   ]
  },
  {
   "cell_type": "code",
   "execution_count": 45,
   "metadata": {},
   "outputs": [],
   "source": [
    "# Available detectors: \"next_2x2\", \"next_3x3\", \"next_hd\"\n",
    "DETECTOR = 'next_hd'\n",
    "\n",
    "# Available radiogenic background levels: \"reference\", \"probable\", \"optimistic\"\n",
    "RADIOGENIC_BKGND_LEVEL = 'probable'\n",
    "\n",
    "# Available Radon background levels: \"pessimistic\", \"optimistic\"\n",
    "RADON_BKGND_LEVEL = 'pessimistic'\n",
    "\n",
    "# Hosting lab: 'LSC', 'LNGS', 'SNOLAB'\n",
    "HOSTING_LAB = 'SNOLAB'"
   ]
  },
  {
   "cell_type": "markdown",
   "metadata": {},
   "source": [
    "# LOADING DETECTOR DATA"
   ]
  },
  {
   "cell_type": "code",
   "execution_count": 46,
   "metadata": {},
   "outputs": [],
   "source": [
    "det_dim = get_dimensions(DETECTOR)"
   ]
  },
  {
   "cell_type": "code",
   "execution_count": 47,
   "metadata": {},
   "outputs": [
    {
     "name": "stdout",
     "output_type": "stream",
     "text": [
      "*** DETECTOR 'next_hd' DIMENSIONS ***\n",
      "\n",
      "* ACTIVE\n",
      "  ACTIVE Diameter = 260.0 cm\n",
      "  ACTIVE Length   = 260.0 cm\n",
      "  ACTIVE Surface  = 3.186e+05 cm**2\n",
      "  ACTIVE Volume   = 1.380e+07 cm**3\n",
      "  ACTIVE mass     = 1.229e+03 kg\n",
      "\n",
      "* READOUT_PLANE\n",
      "  READOUT_PLANE Surface (each one) = 5.309e+04 cm**2\n",
      "\n",
      "* CATHODE\n",
      "  CATHODE Volume = 1.327e+03 cm**3\n",
      "  CATHODE Mass   = 1.061e+01 kg\n",
      "\n",
      "* FIELD_CAGE\n",
      "  FIELD_CAGE Thickness = 1.0 cm\n",
      "  FIELD_CAGE Inner Rad = 1.300e+02 cm\n",
      "  FIELD_CAGE Outer Rad = 1.310e+02 cm\n",
      "  FIELD_CAGE Length    = 2.600e+02 cm\n",
      "  FIELD_CAGE Volume    = 2.132e+05 cm**3\n",
      "  FIELD_CAGE Mass      = 4.690e+02 kg\n",
      "\n",
      "* INNER_SHIELDING\n",
      "  ICS Thickness         = 12.0 cm\n",
      "  ICS Inner Rad         = 1.310e+02 cm\n",
      "  ICS Outer Rad         = 1.430e+02 cm\n",
      "  ICS Inner Length      = 2.640e+02 cm\n",
      "  ICS Outer Length      = 2.880e+02 cm\n",
      "  ICS Inner EndCap Surf = 5.391e+04 cm**2\n",
      "  ICS Outer EndCap Surf = 6.424e+04 cm**2\n",
      "  ICS Volume            = 4.269e+06 cm**3\n",
      "  ICS Mass              = 3.825e+04 kg\n",
      "\n",
      "* VESSEL\n",
      "  VESSEL Thickness    = 2.0 cm\n",
      "  VESSEL Inner Rad    = 1.430e+02 cm\n",
      "  VESSEL Outer Rad    = 1.450e+02 cm\n",
      "  VESSEL Inner Length = 3.280e+02 cm\n",
      "  VESSEL Outer Length = 3.320e+02 cm\n",
      "  VESSEL Volume       = 8.577e+05 cm**3\n",
      "  VESSEL Mass         = 6.853e+03 kg\n",
      "\n",
      "* TANK\n",
      "  TANK Outer Diam     = 9.340e+02 cm\n",
      "  TANK Top Surface    = 6.851e+05 cm**2\n",
      "  MUON Surface        = 1.069e+06 cm**2\n"
     ]
    }
   ],
   "source": [
    "print_dimensions(DETECTOR)"
   ]
  },
  {
   "cell_type": "code",
   "execution_count": 48,
   "metadata": {},
   "outputs": [],
   "source": [
    "radiogenic_act = get_radiogenic_activities(RADIOGENIC_BKGND_LEVEL)\n",
    "radon_act      = get_radon_activity(RADON_BKGND_LEVEL)\n",
    "muon_flux      = get_muon_flux(HOSTING_LAB)"
   ]
  },
  {
   "cell_type": "code",
   "execution_count": 49,
   "metadata": {},
   "outputs": [
    {
     "name": "stdout",
     "output_type": "stream",
     "text": [
      "*** 'probable' RADIOGENIC ACTIVITIES ***\n",
      "\n",
      "* Copper:\n",
      "    Bi214: 1.260e-03 mBq/kg\n",
      "    Tl208: 4.350e-04 mBq/kg\n",
      "\n",
      "* DiceBoard:\n",
      "    Bi214: 4.620e-02 mBq/m**2\n",
      "    Tl208: 1.223e-02 mBq/m**2\n",
      "\n",
      "* Teflon:\n",
      "    Bi214: 4.960e-03 mBq/kg\n",
      "    Tl208: 3.690e-05 mBq/kg\n",
      "\n",
      "\n",
      "*** 'pessimistic' RADON ACTIVITY ***\n",
      "\n",
      "* Radon activity: 2.910e+00 mBq/m**2\n",
      "\n",
      "\n",
      "*** 'SNOLAB' MUON FLUX ***\n",
      "\n",
      "* Muon flux: 3.310e-10 cm**-2 sec**-1\n"
     ]
    }
   ],
   "source": [
    "print_initial_activities(RADIOGENIC_BKGND_LEVEL, RADON_BKGND_LEVEL, HOSTING_LAB)"
   ]
  },
  {
   "cell_type": "markdown",
   "metadata": {},
   "source": [
    "# COMPUTING THE DETECTOR BACKGROUND LEVEL"
   ]
  },
  {
   "cell_type": "markdown",
   "metadata": {},
   "source": [
    "#### Radiogenic contributions\n",
    "\n",
    "In principle. only the contributions from the 'READOUT_PLANES', 'FIELD_CAGE' and 'INNER_SHIELDING' are considered.\n",
    "\n",
    "Backgrounds expressed in Becquerel"
   ]
  },
  {
   "cell_type": "code",
   "execution_count": 50,
   "metadata": {},
   "outputs": [
    {
     "name": "stdout",
     "output_type": "stream",
     "text": [
      "*** 'next_hd' radiogenic background level (Bq.):\n"
     ]
    },
    {
     "data": {
      "text/html": [
       "<div>\n",
       "<style scoped>\n",
       "    .dataframe tbody tr th:only-of-type {\n",
       "        vertical-align: middle;\n",
       "    }\n",
       "\n",
       "    .dataframe tbody tr th {\n",
       "        vertical-align: top;\n",
       "    }\n",
       "\n",
       "    .dataframe thead th {\n",
       "        text-align: right;\n",
       "    }\n",
       "</style>\n",
       "<table border=\"1\" class=\"dataframe\">\n",
       "  <thead>\n",
       "    <tr style=\"text-align: right;\">\n",
       "      <th></th>\n",
       "      <th>Tl208</th>\n",
       "      <th>Bi214</th>\n",
       "      <th>Total</th>\n",
       "    </tr>\n",
       "    <tr>\n",
       "      <th>source</th>\n",
       "      <th></th>\n",
       "      <th></th>\n",
       "      <th></th>\n",
       "    </tr>\n",
       "  </thead>\n",
       "  <tbody>\n",
       "    <tr>\n",
       "      <th>READOUT_PLANE</th>\n",
       "      <td>0.000130</td>\n",
       "      <td>0.000491</td>\n",
       "      <td>0.000620</td>\n",
       "    </tr>\n",
       "    <tr>\n",
       "      <th>FIELD_CAGE</th>\n",
       "      <td>0.000017</td>\n",
       "      <td>0.002326</td>\n",
       "      <td>0.002344</td>\n",
       "    </tr>\n",
       "    <tr>\n",
       "      <th>INNER_SHIELDING</th>\n",
       "      <td>0.016638</td>\n",
       "      <td>0.048193</td>\n",
       "      <td>0.064831</td>\n",
       "    </tr>\n",
       "  </tbody>\n",
       "</table>\n",
       "</div>"
      ],
      "text/plain": [
       "                    Tl208     Bi214     Total\n",
       "source                                       \n",
       "READOUT_PLANE    0.000130  0.000491  0.000620\n",
       "FIELD_CAGE       0.000017  0.002326  0.002344\n",
       "INNER_SHIELDING  0.016638  0.048193  0.064831"
      ]
     },
     "execution_count": 50,
     "metadata": {},
     "output_type": "execute_result"
    }
   ],
   "source": [
    "radiogenic_bkgnd = get_radiogenic_background_level(DETECTOR, RADIOGENIC_BKGND_LEVEL)\n",
    "radiogenic_bkgnd['Total'] = radiogenic_bkgnd['Bi214'] + radiogenic_bkgnd['Tl208']\n",
    "print(f\"*** '{DETECTOR}' radiogenic background level (Bq.):\")\n",
    "radiogenic_bkgnd"
   ]
  },
  {
   "cell_type": "code",
   "execution_count": 51,
   "metadata": {},
   "outputs": [
    {
     "name": "stdout",
     "output_type": "stream",
     "text": [
      "*** 'next_hd' radiogenic background: 6.780e-02 Bq.\n",
      "\n",
      "Total Bi214 background: 5.101e-02 Bq.  ->  75.24 %\n",
      "Total Tl208 background: 1.679e-02 Bq.  ->  24.76 %\n",
      "\n",
      "Total READOUT_PLANE background: 6.204e-04 Bq.  ->  0.92 %\n",
      "Total FIELD_CAGE background:    2.344e-03 Bq.  ->  3.457 %\n",
      "Total ICS background:           6.483e-02 Bq.  ->  95.63 %\n"
     ]
    }
   ],
   "source": [
    "tot_bkgnd = radiogenic_bkgnd['Total'].sum()\n",
    "print(f\"*** '{DETECTOR}' radiogenic background: {tot_bkgnd:8.3e} Bq.\")\n",
    "\n",
    "tot_Bi = radiogenic_bkgnd['Bi214'].sum()\n",
    "tot_Tl = radiogenic_bkgnd['Tl208'].sum()\n",
    "print(f\"\\nTotal Bi214 background: {tot_Bi:8.3e} Bq.  ->  {tot_Bi/tot_bkgnd*100:.4} %\")\n",
    "print(f\"Total Tl208 background: {tot_Tl:8.3e} Bq.  ->  {tot_Tl/tot_bkgnd*100:.4} %\")\n",
    "\n",
    "tot_READOUT_PLANE = radiogenic_bkgnd.loc['READOUT_PLANE'].Total\n",
    "tot_FIELD_CAGE    = radiogenic_bkgnd.loc['FIELD_CAGE'].Total\n",
    "tot_ICS           = radiogenic_bkgnd.loc['INNER_SHIELDING', 'Total']\n",
    "print(f\"\\nTotal READOUT_PLANE background: {tot_READOUT_PLANE:8.3e} Bq.  ->  {tot_READOUT_PLANE/tot_bkgnd*100:4.2} %\")\n",
    "print(f\"Total FIELD_CAGE background:    {tot_FIELD_CAGE:8.3e} Bq.  ->  {tot_FIELD_CAGE/tot_bkgnd*100:.4} %\")\n",
    "print(f\"Total ICS background:           {tot_ICS:8.3e} Bq.  ->  {tot_ICS/tot_bkgnd*100:.4} %\")\n"
   ]
  },
  {
   "cell_type": "markdown",
   "metadata": {},
   "source": [
    "#### Radon contribution\n",
    "\n",
    "The radon contribution is directly translated to an Bi214 concentration in the central CATHODE"
   ]
  },
  {
   "cell_type": "code",
   "execution_count": 52,
   "metadata": {},
   "outputs": [
    {
     "name": "stdout",
     "output_type": "stream",
     "text": [
      "*** 'next_hd' radon background: 9.270e-02 Bq.\n",
      "\n",
      "(It will be treated as Bi214 contamination from the CATHODE)\n"
     ]
    }
   ],
   "source": [
    "radon_background = get_radon_background_level(DETECTOR, RADON_BKGND_LEVEL)\n",
    "print(f\"*** '{DETECTOR}' radon background: {radon_background/units.Bq:8.3e} Bq.\")\n",
    "print(f\"\\n(It will be treated as Bi214 contamination from the CATHODE)\")"
   ]
  },
  {
   "cell_type": "markdown",
   "metadata": {},
   "source": [
    "#### Muons contribution\n",
    "\n",
    "Xe137 decay is the only muon contribution considered."
   ]
  },
  {
   "cell_type": "code",
   "execution_count": 53,
   "metadata": {},
   "outputs": [
    {
     "name": "stdout",
     "output_type": "stream",
     "text": [
      "Xe-137 per second =  3.81249273045336e-08 +/- 7.466892601995566e-10\n",
      "Xe-137 per calendar yr =  1.2023077074757718 +/- 0.023547592509653215\n",
      "\n",
      "\n",
      "*** 'next_hd' in 'SNOLAB' muon background: 3.812e-08 Bq.\n",
      "\n",
      "(It will be treated as Xe137 contamination from the ACTIVE)\n"
     ]
    }
   ],
   "source": [
    "muon_background, muon_background_error = get_muon_background_level(DETECTOR, HOSTING_LAB)\n",
    "print(f\"\\n\\n*** '{DETECTOR}' in '{HOSTING_LAB}' muon background: {muon_background:8.3e} Bq.\")\n",
    "print(f\"\\n(It will be treated as Xe137 contamination from the ACTIVE)\")"
   ]
  },
  {
   "cell_type": "code",
   "execution_count": null,
   "metadata": {},
   "outputs": [],
   "source": []
  },
  {
   "cell_type": "markdown",
   "metadata": {},
   "source": [
    "# LOADING & SELECTING REJECTION FACTORS"
   ]
  },
  {
   "cell_type": "code",
   "execution_count": 54,
   "metadata": {},
   "outputs": [
    {
     "name": "stdout",
     "output_type": "stream",
     "text": [
      "*** 'next_hd' rejection factors:\n"
     ]
    },
    {
     "data": {
      "text/html": [
       "<div>\n",
       "<style scoped>\n",
       "    .dataframe tbody tr th:only-of-type {\n",
       "        vertical-align: middle;\n",
       "    }\n",
       "\n",
       "    .dataframe tbody tr th {\n",
       "        vertical-align: top;\n",
       "    }\n",
       "\n",
       "    .dataframe thead th {\n",
       "        text-align: right;\n",
       "    }\n",
       "</style>\n",
       "<table border=\"1\" class=\"dataframe\">\n",
       "  <thead>\n",
       "    <tr style=\"text-align: right;\">\n",
       "      <th></th>\n",
       "      <th></th>\n",
       "      <th></th>\n",
       "      <th>bb0nu</th>\n",
       "      <th>bb0nu_err</th>\n",
       "      <th>Xe137</th>\n",
       "      <th>Xe137_err</th>\n",
       "      <th>Bi214</th>\n",
       "      <th>Bi214_err</th>\n",
       "      <th>Tl208</th>\n",
       "      <th>Tl208_err</th>\n",
       "    </tr>\n",
       "    <tr>\n",
       "      <th>source</th>\n",
       "      <th>energyRes</th>\n",
       "      <th>spatialDef</th>\n",
       "      <th></th>\n",
       "      <th></th>\n",
       "      <th></th>\n",
       "      <th></th>\n",
       "      <th></th>\n",
       "      <th></th>\n",
       "      <th></th>\n",
       "      <th></th>\n",
       "    </tr>\n",
       "  </thead>\n",
       "  <tbody>\n",
       "    <tr>\n",
       "      <th rowspan=\"4\" valign=\"top\">ACTIVE</th>\n",
       "      <th rowspan=\"2\" valign=\"top\">0.7</th>\n",
       "      <th>3x3x3</th>\n",
       "      <td>0.237636</td>\n",
       "      <td>0.000450</td>\n",
       "      <td>0.000075</td>\n",
       "      <td>0.000002</td>\n",
       "      <td>NaN</td>\n",
       "      <td>NaN</td>\n",
       "      <td>NaN</td>\n",
       "      <td>NaN</td>\n",
       "    </tr>\n",
       "    <tr>\n",
       "      <th>10x10x10</th>\n",
       "      <td>0.285822</td>\n",
       "      <td>0.000487</td>\n",
       "      <td>0.000147</td>\n",
       "      <td>0.000003</td>\n",
       "      <td>NaN</td>\n",
       "      <td>NaN</td>\n",
       "      <td>NaN</td>\n",
       "      <td>NaN</td>\n",
       "    </tr>\n",
       "    <tr>\n",
       "      <th rowspan=\"2\" valign=\"top\">0.5</th>\n",
       "      <th>3x3x3</th>\n",
       "      <td>0.245923</td>\n",
       "      <td>0.000454</td>\n",
       "      <td>0.000057</td>\n",
       "      <td>0.000002</td>\n",
       "      <td>NaN</td>\n",
       "      <td>NaN</td>\n",
       "      <td>NaN</td>\n",
       "      <td>NaN</td>\n",
       "    </tr>\n",
       "    <tr>\n",
       "      <th>10x10x10</th>\n",
       "      <td>0.295388</td>\n",
       "      <td>0.000496</td>\n",
       "      <td>0.000113</td>\n",
       "      <td>0.000003</td>\n",
       "      <td>NaN</td>\n",
       "      <td>NaN</td>\n",
       "      <td>NaN</td>\n",
       "      <td>NaN</td>\n",
       "    </tr>\n",
       "    <tr>\n",
       "      <th rowspan=\"4\" valign=\"top\">READOUT_PLANE</th>\n",
       "      <th rowspan=\"2\" valign=\"top\">0.7</th>\n",
       "      <th>3x3x3</th>\n",
       "      <td>NaN</td>\n",
       "      <td>NaN</td>\n",
       "      <td>NaN</td>\n",
       "      <td>NaN</td>\n",
       "      <td>1.561224e-07</td>\n",
       "      <td>1.262175e-08</td>\n",
       "      <td>9.588048e-08</td>\n",
       "      <td>1.033906e-08</td>\n",
       "    </tr>\n",
       "    <tr>\n",
       "      <th>10x10x10</th>\n",
       "      <td>NaN</td>\n",
       "      <td>NaN</td>\n",
       "      <td>NaN</td>\n",
       "      <td>NaN</td>\n",
       "      <td>4.650000e-07</td>\n",
       "      <td>2.156386e-08</td>\n",
       "      <td>3.288889e-07</td>\n",
       "      <td>1.911628e-08</td>\n",
       "    </tr>\n",
       "    <tr>\n",
       "      <th rowspan=\"2\" valign=\"top\">0.5</th>\n",
       "      <th>3x3x3</th>\n",
       "      <td>NaN</td>\n",
       "      <td>NaN</td>\n",
       "      <td>NaN</td>\n",
       "      <td>NaN</td>\n",
       "      <td>7.807808e-08</td>\n",
       "      <td>8.840601e-09</td>\n",
       "      <td>6.779284e-08</td>\n",
       "      <td>8.679984e-09</td>\n",
       "    </tr>\n",
       "    <tr>\n",
       "      <th>10x10x10</th>\n",
       "      <td>NaN</td>\n",
       "      <td>NaN</td>\n",
       "      <td>NaN</td>\n",
       "      <td>NaN</td>\n",
       "      <td>2.629969e-07</td>\n",
       "      <td>1.637347e-08</td>\n",
       "      <td>2.442152e-07</td>\n",
       "      <td>1.650254e-08</td>\n",
       "    </tr>\n",
       "    <tr>\n",
       "      <th rowspan=\"4\" valign=\"top\">CATHODE</th>\n",
       "      <th rowspan=\"2\" valign=\"top\">0.7</th>\n",
       "      <th>3x3x3</th>\n",
       "      <td>NaN</td>\n",
       "      <td>NaN</td>\n",
       "      <td>NaN</td>\n",
       "      <td>NaN</td>\n",
       "      <td>0.000000e+00</td>\n",
       "      <td>0.000000e+00</td>\n",
       "      <td>NaN</td>\n",
       "      <td>NaN</td>\n",
       "    </tr>\n",
       "    <tr>\n",
       "      <th>10x10x10</th>\n",
       "      <td>NaN</td>\n",
       "      <td>NaN</td>\n",
       "      <td>NaN</td>\n",
       "      <td>NaN</td>\n",
       "      <td>3.005410e-09</td>\n",
       "      <td>1.735174e-09</td>\n",
       "      <td>NaN</td>\n",
       "      <td>NaN</td>\n",
       "    </tr>\n",
       "    <tr>\n",
       "      <th rowspan=\"2\" valign=\"top\">0.5</th>\n",
       "      <th>3x3x3</th>\n",
       "      <td>NaN</td>\n",
       "      <td>NaN</td>\n",
       "      <td>NaN</td>\n",
       "      <td>NaN</td>\n",
       "      <td>1.002406e-09</td>\n",
       "      <td>1.002406e-09</td>\n",
       "      <td>NaN</td>\n",
       "      <td>NaN</td>\n",
       "    </tr>\n",
       "    <tr>\n",
       "      <th>10x10x10</th>\n",
       "      <td>NaN</td>\n",
       "      <td>NaN</td>\n",
       "      <td>NaN</td>\n",
       "      <td>NaN</td>\n",
       "      <td>1.003814e-09</td>\n",
       "      <td>1.003814e-09</td>\n",
       "      <td>NaN</td>\n",
       "      <td>NaN</td>\n",
       "    </tr>\n",
       "    <tr>\n",
       "      <th rowspan=\"4\" valign=\"top\">FIELD_CAGE</th>\n",
       "      <th rowspan=\"2\" valign=\"top\">0.7</th>\n",
       "      <th>3x3x3</th>\n",
       "      <td>NaN</td>\n",
       "      <td>NaN</td>\n",
       "      <td>NaN</td>\n",
       "      <td>NaN</td>\n",
       "      <td>1.416838e-07</td>\n",
       "      <td>1.206092e-08</td>\n",
       "      <td>8.687420e-08</td>\n",
       "      <td>9.836566e-09</td>\n",
       "    </tr>\n",
       "    <tr>\n",
       "      <th>10x10x10</th>\n",
       "      <td>NaN</td>\n",
       "      <td>NaN</td>\n",
       "      <td>NaN</td>\n",
       "      <td>NaN</td>\n",
       "      <td>5.010000e-07</td>\n",
       "      <td>2.238303e-08</td>\n",
       "      <td>2.833333e-07</td>\n",
       "      <td>1.774302e-08</td>\n",
       "    </tr>\n",
       "    <tr>\n",
       "      <th rowspan=\"2\" valign=\"top\">0.5</th>\n",
       "      <th>3x3x3</th>\n",
       "      <td>NaN</td>\n",
       "      <td>NaN</td>\n",
       "      <td>NaN</td>\n",
       "      <td>NaN</td>\n",
       "      <td>6.300000e-08</td>\n",
       "      <td>7.937254e-09</td>\n",
       "      <td>6.777778e-08</td>\n",
       "      <td>8.678055e-09</td>\n",
       "    </tr>\n",
       "    <tr>\n",
       "      <th>10x10x10</th>\n",
       "      <td>NaN</td>\n",
       "      <td>NaN</td>\n",
       "      <td>NaN</td>\n",
       "      <td>NaN</td>\n",
       "      <td>2.320329e-07</td>\n",
       "      <td>1.543460e-08</td>\n",
       "      <td>2.227544e-07</td>\n",
       "      <td>1.575111e-08</td>\n",
       "    </tr>\n",
       "    <tr>\n",
       "      <th rowspan=\"4\" valign=\"top\">INNER_SHIELDING</th>\n",
       "      <th rowspan=\"2\" valign=\"top\">0.7</th>\n",
       "      <th>3x3x3</th>\n",
       "      <td>NaN</td>\n",
       "      <td>NaN</td>\n",
       "      <td>NaN</td>\n",
       "      <td>NaN</td>\n",
       "      <td>1.951366e-08</td>\n",
       "      <td>1.397402e-09</td>\n",
       "      <td>5.006007e-08</td>\n",
       "      <td>7.079563e-09</td>\n",
       "    </tr>\n",
       "    <tr>\n",
       "      <th>10x10x10</th>\n",
       "      <td>NaN</td>\n",
       "      <td>NaN</td>\n",
       "      <td>NaN</td>\n",
       "      <td>NaN</td>\n",
       "      <td>6.852741e-08</td>\n",
       "      <td>2.618298e-09</td>\n",
       "      <td>1.470000e-07</td>\n",
       "      <td>1.212436e-08</td>\n",
       "    </tr>\n",
       "    <tr>\n",
       "      <th rowspan=\"2\" valign=\"top\">0.5</th>\n",
       "      <th>3x3x3</th>\n",
       "      <td>NaN</td>\n",
       "      <td>NaN</td>\n",
       "      <td>NaN</td>\n",
       "      <td>NaN</td>\n",
       "      <td>1.160348e-08</td>\n",
       "      <td>1.077356e-09</td>\n",
       "      <td>4.500000e-08</td>\n",
       "      <td>6.708204e-09</td>\n",
       "    </tr>\n",
       "    <tr>\n",
       "      <th>10x10x10</th>\n",
       "      <td>NaN</td>\n",
       "      <td>NaN</td>\n",
       "      <td>NaN</td>\n",
       "      <td>NaN</td>\n",
       "      <td>3.292634e-08</td>\n",
       "      <td>1.815288e-09</td>\n",
       "      <td>1.151382e-07</td>\n",
       "      <td>1.073669e-08</td>\n",
       "    </tr>\n",
       "  </tbody>\n",
       "</table>\n",
       "</div>"
      ],
      "text/plain": [
       "                                         bb0nu  bb0nu_err     Xe137  \\\n",
       "source          energyRes spatialDef                                  \n",
       "ACTIVE          0.7       3x3x3       0.237636   0.000450  0.000075   \n",
       "                          10x10x10    0.285822   0.000487  0.000147   \n",
       "                0.5       3x3x3       0.245923   0.000454  0.000057   \n",
       "                          10x10x10    0.295388   0.000496  0.000113   \n",
       "READOUT_PLANE   0.7       3x3x3            NaN        NaN       NaN   \n",
       "                          10x10x10         NaN        NaN       NaN   \n",
       "                0.5       3x3x3            NaN        NaN       NaN   \n",
       "                          10x10x10         NaN        NaN       NaN   \n",
       "CATHODE         0.7       3x3x3            NaN        NaN       NaN   \n",
       "                          10x10x10         NaN        NaN       NaN   \n",
       "                0.5       3x3x3            NaN        NaN       NaN   \n",
       "                          10x10x10         NaN        NaN       NaN   \n",
       "FIELD_CAGE      0.7       3x3x3            NaN        NaN       NaN   \n",
       "                          10x10x10         NaN        NaN       NaN   \n",
       "                0.5       3x3x3            NaN        NaN       NaN   \n",
       "                          10x10x10         NaN        NaN       NaN   \n",
       "INNER_SHIELDING 0.7       3x3x3            NaN        NaN       NaN   \n",
       "                          10x10x10         NaN        NaN       NaN   \n",
       "                0.5       3x3x3            NaN        NaN       NaN   \n",
       "                          10x10x10         NaN        NaN       NaN   \n",
       "\n",
       "                                      Xe137_err         Bi214     Bi214_err  \\\n",
       "source          energyRes spatialDef                                          \n",
       "ACTIVE          0.7       3x3x3        0.000002           NaN           NaN   \n",
       "                          10x10x10     0.000003           NaN           NaN   \n",
       "                0.5       3x3x3        0.000002           NaN           NaN   \n",
       "                          10x10x10     0.000003           NaN           NaN   \n",
       "READOUT_PLANE   0.7       3x3x3             NaN  1.561224e-07  1.262175e-08   \n",
       "                          10x10x10          NaN  4.650000e-07  2.156386e-08   \n",
       "                0.5       3x3x3             NaN  7.807808e-08  8.840601e-09   \n",
       "                          10x10x10          NaN  2.629969e-07  1.637347e-08   \n",
       "CATHODE         0.7       3x3x3             NaN  0.000000e+00  0.000000e+00   \n",
       "                          10x10x10          NaN  3.005410e-09  1.735174e-09   \n",
       "                0.5       3x3x3             NaN  1.002406e-09  1.002406e-09   \n",
       "                          10x10x10          NaN  1.003814e-09  1.003814e-09   \n",
       "FIELD_CAGE      0.7       3x3x3             NaN  1.416838e-07  1.206092e-08   \n",
       "                          10x10x10          NaN  5.010000e-07  2.238303e-08   \n",
       "                0.5       3x3x3             NaN  6.300000e-08  7.937254e-09   \n",
       "                          10x10x10          NaN  2.320329e-07  1.543460e-08   \n",
       "INNER_SHIELDING 0.7       3x3x3             NaN  1.951366e-08  1.397402e-09   \n",
       "                          10x10x10          NaN  6.852741e-08  2.618298e-09   \n",
       "                0.5       3x3x3             NaN  1.160348e-08  1.077356e-09   \n",
       "                          10x10x10          NaN  3.292634e-08  1.815288e-09   \n",
       "\n",
       "                                             Tl208     Tl208_err  \n",
       "source          energyRes spatialDef                              \n",
       "ACTIVE          0.7       3x3x3                NaN           NaN  \n",
       "                          10x10x10             NaN           NaN  \n",
       "                0.5       3x3x3                NaN           NaN  \n",
       "                          10x10x10             NaN           NaN  \n",
       "READOUT_PLANE   0.7       3x3x3       9.588048e-08  1.033906e-08  \n",
       "                          10x10x10    3.288889e-07  1.911628e-08  \n",
       "                0.5       3x3x3       6.779284e-08  8.679984e-09  \n",
       "                          10x10x10    2.442152e-07  1.650254e-08  \n",
       "CATHODE         0.7       3x3x3                NaN           NaN  \n",
       "                          10x10x10             NaN           NaN  \n",
       "                0.5       3x3x3                NaN           NaN  \n",
       "                          10x10x10             NaN           NaN  \n",
       "FIELD_CAGE      0.7       3x3x3       8.687420e-08  9.836566e-09  \n",
       "                          10x10x10    2.833333e-07  1.774302e-08  \n",
       "                0.5       3x3x3       6.777778e-08  8.678055e-09  \n",
       "                          10x10x10    2.227544e-07  1.575111e-08  \n",
       "INNER_SHIELDING 0.7       3x3x3       5.006007e-08  7.079563e-09  \n",
       "                          10x10x10    1.470000e-07  1.212436e-08  \n",
       "                0.5       3x3x3       4.500000e-08  6.708204e-09  \n",
       "                          10x10x10    1.151382e-07  1.073669e-08  "
      ]
     },
     "execution_count": 54,
     "metadata": {},
     "output_type": "execute_result"
    }
   ],
   "source": [
    "rej_factors = get_rejection_factors(DETECTOR)\n",
    "print(f\"*** '{DETECTOR}' rejection factors:\")\n",
    "rej_factors"
   ]
  },
  {
   "cell_type": "markdown",
   "metadata": {},
   "source": [
    "### OPTIONS TO STUDY"
   ]
  },
  {
   "cell_type": "code",
   "execution_count": 55,
   "metadata": {},
   "outputs": [],
   "source": [
    "energyRes  = 0.5\n",
    "spatialDef = '3x3x3'"
   ]
  },
  {
   "cell_type": "markdown",
   "metadata": {},
   "source": [
    "#### Signal efficiency"
   ]
  },
  {
   "cell_type": "code",
   "execution_count": 56,
   "metadata": {},
   "outputs": [
    {
     "name": "stdout",
     "output_type": "stream",
     "text": [
      "*** 'next_hd' - Energy Res: 0.5% - Spatial Def: 3x3x3\n",
      "\n",
      "Signal efficiency:  0.246 +- 0.000454 \n"
     ]
    }
   ],
   "source": [
    "sig_eff     = rej_factors.loc[pd.IndexSlice['ACTIVE', energyRes, spatialDef], 'bb0nu']\n",
    "sig_eff_err = rej_factors.loc[pd.IndexSlice['ACTIVE', energyRes, spatialDef], 'bb0nu_err']\n",
    "print(f\"*** '{DETECTOR}' - Energy Res: {energyRes}% - Spatial Def: {spatialDef}\\n\")\n",
    "print(f\"Signal efficiency:  {sig_eff:.3} +- {sig_eff_err:.3} \")"
   ]
  },
  {
   "cell_type": "markdown",
   "metadata": {},
   "source": [
    "#### Radiogenic rejection_factors"
   ]
  },
  {
   "cell_type": "code",
   "execution_count": 57,
   "metadata": {},
   "outputs": [
    {
     "name": "stdout",
     "output_type": "stream",
     "text": [
      "*** 'next_hd' - Energy Res: 0.5% - Spatial Def: 3x3x3\n",
      "\n",
      "Radiogenic Rejection factor:\n"
     ]
    },
    {
     "data": {
      "text/html": [
       "<div>\n",
       "<style scoped>\n",
       "    .dataframe tbody tr th:only-of-type {\n",
       "        vertical-align: middle;\n",
       "    }\n",
       "\n",
       "    .dataframe tbody tr th {\n",
       "        vertical-align: top;\n",
       "    }\n",
       "\n",
       "    .dataframe thead th {\n",
       "        text-align: right;\n",
       "    }\n",
       "</style>\n",
       "<table border=\"1\" class=\"dataframe\">\n",
       "  <thead>\n",
       "    <tr style=\"text-align: right;\">\n",
       "      <th></th>\n",
       "      <th></th>\n",
       "      <th></th>\n",
       "      <th>Bi214</th>\n",
       "      <th>Tl208</th>\n",
       "    </tr>\n",
       "    <tr>\n",
       "      <th>source</th>\n",
       "      <th>energyRes</th>\n",
       "      <th>spatialDef</th>\n",
       "      <th></th>\n",
       "      <th></th>\n",
       "    </tr>\n",
       "  </thead>\n",
       "  <tbody>\n",
       "    <tr>\n",
       "      <th>READOUT_PLANE</th>\n",
       "      <th>0.5</th>\n",
       "      <th>3x3x3</th>\n",
       "      <td>7.807808e-08</td>\n",
       "      <td>6.779284e-08</td>\n",
       "    </tr>\n",
       "    <tr>\n",
       "      <th>FIELD_CAGE</th>\n",
       "      <th>0.5</th>\n",
       "      <th>3x3x3</th>\n",
       "      <td>6.300000e-08</td>\n",
       "      <td>6.777778e-08</td>\n",
       "    </tr>\n",
       "    <tr>\n",
       "      <th>INNER_SHIELDING</th>\n",
       "      <th>0.5</th>\n",
       "      <th>3x3x3</th>\n",
       "      <td>1.160348e-08</td>\n",
       "      <td>4.500000e-08</td>\n",
       "    </tr>\n",
       "  </tbody>\n",
       "</table>\n",
       "</div>"
      ],
      "text/plain": [
       "                                             Bi214         Tl208\n",
       "source          energyRes spatialDef                            \n",
       "READOUT_PLANE   0.5       3x3x3       7.807808e-08  6.779284e-08\n",
       "FIELD_CAGE      0.5       3x3x3       6.300000e-08  6.777778e-08\n",
       "INNER_SHIELDING 0.5       3x3x3       1.160348e-08  4.500000e-08"
      ]
     },
     "execution_count": 57,
     "metadata": {},
     "output_type": "execute_result"
    }
   ],
   "source": [
    "radiogenic_rejection = rej_factors.loc[pd.IndexSlice[:, energyRes, spatialDef], ['Bi214', 'Tl208']]\n",
    "radiogenic_rejection.drop('ACTIVE',  level=0, axis=0, inplace=True)\n",
    "radiogenic_rejection.drop('CATHODE', level=0, axis=0, inplace=True)\n",
    "print(f\"*** '{DETECTOR}' - Energy Res: {energyRes}% - Spatial Def: {spatialDef}\\n\")\n",
    "print(f\"Radiogenic Rejection factor:\")\n",
    "radiogenic_rejection"
   ]
  },
  {
   "cell_type": "code",
   "execution_count": 58,
   "metadata": {},
   "outputs": [
    {
     "name": "stdout",
     "output_type": "stream",
     "text": [
      "*** 'next_hd' - Energy Res: 0.5% - Spatial Def: 3x3x3\n",
      "\n",
      "Radiogenic Rejection factor error:\n"
     ]
    },
    {
     "data": {
      "text/html": [
       "<div>\n",
       "<style scoped>\n",
       "    .dataframe tbody tr th:only-of-type {\n",
       "        vertical-align: middle;\n",
       "    }\n",
       "\n",
       "    .dataframe tbody tr th {\n",
       "        vertical-align: top;\n",
       "    }\n",
       "\n",
       "    .dataframe thead th {\n",
       "        text-align: right;\n",
       "    }\n",
       "</style>\n",
       "<table border=\"1\" class=\"dataframe\">\n",
       "  <thead>\n",
       "    <tr style=\"text-align: right;\">\n",
       "      <th></th>\n",
       "      <th></th>\n",
       "      <th></th>\n",
       "      <th>Bi214_err</th>\n",
       "      <th>Tl208_err</th>\n",
       "    </tr>\n",
       "    <tr>\n",
       "      <th>source</th>\n",
       "      <th>energyRes</th>\n",
       "      <th>spatialDef</th>\n",
       "      <th></th>\n",
       "      <th></th>\n",
       "    </tr>\n",
       "  </thead>\n",
       "  <tbody>\n",
       "    <tr>\n",
       "      <th>READOUT_PLANE</th>\n",
       "      <th>0.5</th>\n",
       "      <th>3x3x3</th>\n",
       "      <td>8.840601e-09</td>\n",
       "      <td>8.679984e-09</td>\n",
       "    </tr>\n",
       "    <tr>\n",
       "      <th>FIELD_CAGE</th>\n",
       "      <th>0.5</th>\n",
       "      <th>3x3x3</th>\n",
       "      <td>7.937254e-09</td>\n",
       "      <td>8.678055e-09</td>\n",
       "    </tr>\n",
       "    <tr>\n",
       "      <th>INNER_SHIELDING</th>\n",
       "      <th>0.5</th>\n",
       "      <th>3x3x3</th>\n",
       "      <td>1.077356e-09</td>\n",
       "      <td>6.708204e-09</td>\n",
       "    </tr>\n",
       "  </tbody>\n",
       "</table>\n",
       "</div>"
      ],
      "text/plain": [
       "                                         Bi214_err     Tl208_err\n",
       "source          energyRes spatialDef                            \n",
       "READOUT_PLANE   0.5       3x3x3       8.840601e-09  8.679984e-09\n",
       "FIELD_CAGE      0.5       3x3x3       7.937254e-09  8.678055e-09\n",
       "INNER_SHIELDING 0.5       3x3x3       1.077356e-09  6.708204e-09"
      ]
     },
     "execution_count": 58,
     "metadata": {},
     "output_type": "execute_result"
    }
   ],
   "source": [
    "radiogenic_rejection_error = rej_factors.loc[pd.IndexSlice[:, energyRes, spatialDef], ['Bi214_err', 'Tl208_err']]\n",
    "radiogenic_rejection_error.drop('ACTIVE',  level=0, axis=0, inplace=True)\n",
    "radiogenic_rejection_error.drop('CATHODE', level=0, axis=0, inplace=True)\n",
    "print(f\"*** '{DETECTOR}' - Energy Res: {energyRes}% - Spatial Def: {spatialDef}\\n\")\n",
    "print(f\"Radiogenic Rejection factor error:\")\n",
    "radiogenic_rejection_error"
   ]
  },
  {
   "cell_type": "markdown",
   "metadata": {},
   "source": [
    "#### Radon rejection_factor"
   ]
  },
  {
   "cell_type": "markdown",
   "metadata": {},
   "source": [
    "As in previos NEXT detectors we assume that the whole amount of Radon contamination is translated to Bi214 contamination from the CATHODE."
   ]
  },
  {
   "cell_type": "code",
   "execution_count": 59,
   "metadata": {},
   "outputs": [
    {
     "name": "stdout",
     "output_type": "stream",
     "text": [
      "*** 'next_hd' - Energy Res: 0.5% - Spatial Def: 3x3x3\n",
      "\n",
      "Radon rejection factor:  1.002e-09 +- 1.002e-09\n"
     ]
    }
   ],
   "source": [
    "radon_rejection     = rej_factors.loc[pd.IndexSlice['CATHODE', energyRes, spatialDef], 'Bi214']\n",
    "radon_rejection_err = rej_factors.loc[pd.IndexSlice['CATHODE', energyRes, spatialDef], 'Bi214_err']\n",
    "print(f\"*** '{DETECTOR}' - Energy Res: {energyRes}% - Spatial Def: {spatialDef}\\n\")\n",
    "print(f\"Radon rejection factor:  {radon_rejection:8.3e} +- {radon_rejection_err:8.3e}\")"
   ]
  },
  {
   "cell_type": "markdown",
   "metadata": {},
   "source": [
    "#### Muons rejection_factors"
   ]
  },
  {
   "cell_type": "markdown",
   "metadata": {},
   "source": [
    "The muons rejection factor = Xe137_activation * Xe137_rejection.\n",
    "\n",
    "As the Xe137_activation has been considered previously, the Xe137_rejection factor is the only one applied here."
   ]
  },
  {
   "cell_type": "code",
   "execution_count": 60,
   "metadata": {},
   "outputs": [
    {
     "name": "stdout",
     "output_type": "stream",
     "text": [
      "*** 'next_hd' - Energy Res: 0.5% - Spatial Def: 3x3x3\n",
      "\n",
      "Xe137 rejection factor:  5.681e-05 +- 1.732e-06\n"
     ]
    }
   ],
   "source": [
    "Xe137_rejection     = rej_factors.loc[pd.IndexSlice['ACTIVE', energyRes, spatialDef], 'Xe137']\n",
    "Xe137_rejection_err = rej_factors.loc[pd.IndexSlice['ACTIVE', energyRes, spatialDef], 'Xe137_err']\n",
    "print(f\"*** '{DETECTOR}' - Energy Res: {energyRes}% - Spatial Def: {spatialDef}\\n\")\n",
    "print(f\"Xe137 rejection factor:  {Xe137_rejection:8.3e} +- {Xe137_rejection_err:8.3e}\")"
   ]
  },
  {
   "cell_type": "code",
   "execution_count": null,
   "metadata": {},
   "outputs": [],
   "source": []
  },
  {
   "cell_type": "markdown",
   "metadata": {},
   "source": [
    "# COMPUTING THE DETECTOR BACKGROUND INDEX"
   ]
  },
  {
   "cell_type": "markdown",
   "metadata": {},
   "source": [
    "#### Estimating the Bq -> ckky conversion factor "
   ]
  },
  {
   "cell_type": "code",
   "execution_count": 61,
   "metadata": {},
   "outputs": [],
   "source": [
    "secs_in_year    = 60 * 60 * 24 * 365\n",
    "Xe136_abundance = 0.902616\n",
    "Xe136_mass_kg   = det_dim['ACTIVE_mass'] * Xe136_abundance / units.kg\n",
    "ROI_settings    = get_roi_settings(energyRes)"
   ]
  },
  {
   "cell_type": "code",
   "execution_count": 62,
   "metadata": {},
   "outputs": [],
   "source": [
    "toCKKY = secs_in_year / Xe136_mass_kg / ((ROI_settings['Emax'] - ROI_settings['Emin']) / units.keV)"
   ]
  },
  {
   "cell_type": "code",
   "execution_count": 63,
   "metadata": {},
   "outputs": [
    {
     "name": "stdout",
     "output_type": "stream",
     "text": [
      "*** 'next_hd' - Energy Res: 0.5% - Spatial Def: 3x3x3\n",
      "\n",
      "Xe136 mass: 1108.93 kg.\n",
      "ROI: [2454.0, 2471.0] keV.\n",
      "toCKKY factor: 1672.84\n"
     ]
    }
   ],
   "source": [
    "print(f\"*** '{DETECTOR}' - Energy Res: {energyRes}% - Spatial Def: {spatialDef}\\n\")\n",
    "print(f\"Xe136 mass: {Xe136_mass_kg:.6} kg.\")\n",
    "print(f\"ROI: [{ROI_settings['Emin']/units.keV}, {ROI_settings['Emax']/units.keV}] keV.\")\n",
    "print(f\"toCKKY factor: {toCKKY:.6}\")"
   ]
  },
  {
   "cell_type": "markdown",
   "metadata": {},
   "source": [
    "#### Radiogenic background index"
   ]
  },
  {
   "cell_type": "code",
   "execution_count": 64,
   "metadata": {
    "scrolled": true
   },
   "outputs": [
    {
     "name": "stdout",
     "output_type": "stream",
     "text": [
      "*** 'next_hd' - Energy Res: 0.5% - Spatial Def: 3x3x3\n",
      "\n",
      "Radiogenic Backgroun Index (ckky):\n"
     ]
    },
    {
     "data": {
      "text/html": [
       "<div>\n",
       "<style scoped>\n",
       "    .dataframe tbody tr th:only-of-type {\n",
       "        vertical-align: middle;\n",
       "    }\n",
       "\n",
       "    .dataframe tbody tr th {\n",
       "        vertical-align: top;\n",
       "    }\n",
       "\n",
       "    .dataframe thead th {\n",
       "        text-align: right;\n",
       "    }\n",
       "</style>\n",
       "<table border=\"1\" class=\"dataframe\">\n",
       "  <thead>\n",
       "    <tr style=\"text-align: right;\">\n",
       "      <th></th>\n",
       "      <th></th>\n",
       "      <th></th>\n",
       "      <th>Bi214</th>\n",
       "      <th>Tl208</th>\n",
       "      <th>Total</th>\n",
       "    </tr>\n",
       "    <tr>\n",
       "      <th>source</th>\n",
       "      <th>energyRes</th>\n",
       "      <th>spatialDef</th>\n",
       "      <th></th>\n",
       "      <th></th>\n",
       "      <th></th>\n",
       "    </tr>\n",
       "  </thead>\n",
       "  <tbody>\n",
       "    <tr>\n",
       "      <th>READOUT_PLANE</th>\n",
       "      <th>0.5</th>\n",
       "      <th>3x3x3</th>\n",
       "      <td>6.407556e-08</td>\n",
       "      <td>1.472759e-08</td>\n",
       "      <td>7.880314e-08</td>\n",
       "    </tr>\n",
       "    <tr>\n",
       "      <th>FIELD_CAGE</th>\n",
       "      <th>0.5</th>\n",
       "      <th>3x3x3</th>\n",
       "      <td>2.451678e-07</td>\n",
       "      <td>1.962252e-09</td>\n",
       "      <td>2.471300e-07</td>\n",
       "    </tr>\n",
       "    <tr>\n",
       "      <th>INNER_SHIELDING</th>\n",
       "      <th>0.5</th>\n",
       "      <th>3x3x3</th>\n",
       "      <td>9.354693e-07</td>\n",
       "      <td>1.252485e-06</td>\n",
       "      <td>2.187954e-06</td>\n",
       "    </tr>\n",
       "  </tbody>\n",
       "</table>\n",
       "</div>"
      ],
      "text/plain": [
       "                                             Bi214         Tl208         Total\n",
       "source          energyRes spatialDef                                          \n",
       "READOUT_PLANE   0.5       3x3x3       6.407556e-08  1.472759e-08  7.880314e-08\n",
       "FIELD_CAGE      0.5       3x3x3       2.451678e-07  1.962252e-09  2.471300e-07\n",
       "INNER_SHIELDING 0.5       3x3x3       9.354693e-07  1.252485e-06  2.187954e-06"
      ]
     },
     "execution_count": 64,
     "metadata": {},
     "output_type": "execute_result"
    }
   ],
   "source": [
    "radiogenic_bkgnd_index_Bq = radiogenic_bkgnd[['Bi214', 'Tl208']] * radiogenic_rejection[['Bi214', 'Tl208']]\n",
    "radiogenic_bkgnd_index_Bq['Total'] = radiogenic_bkgnd_index_Bq['Bi214'].add(radiogenic_bkgnd_index_Bq['Tl208'],\n",
    "                                                                            fill_value = 0.)\n",
    "radiogenic_bkgnd_index = radiogenic_bkgnd_index_Bq * toCKKY\n",
    "print(f\"*** '{DETECTOR}' - Energy Res: {energyRes}% - Spatial Def: {spatialDef}\\n\")\n",
    "print(f\"Radiogenic Backgroun Index (ckky):\")\n",
    "radiogenic_bkgnd_index"
   ]
  },
  {
   "cell_type": "code",
   "execution_count": 65,
   "metadata": {},
   "outputs": [
    {
     "name": "stdout",
     "output_type": "stream",
     "text": [
      "*** 'next_hd' - Energy Res: 0.5% - Spatial Def: 3x3x3\n",
      "\n",
      "Radiogenic Backgroun Index Statistical Error (ckky):\n"
     ]
    },
    {
     "data": {
      "text/html": [
       "<div>\n",
       "<style scoped>\n",
       "    .dataframe tbody tr th:only-of-type {\n",
       "        vertical-align: middle;\n",
       "    }\n",
       "\n",
       "    .dataframe tbody tr th {\n",
       "        vertical-align: top;\n",
       "    }\n",
       "\n",
       "    .dataframe thead th {\n",
       "        text-align: right;\n",
       "    }\n",
       "</style>\n",
       "<table border=\"1\" class=\"dataframe\">\n",
       "  <thead>\n",
       "    <tr style=\"text-align: right;\">\n",
       "      <th></th>\n",
       "      <th>Bi214_err</th>\n",
       "      <th>Tl208_err</th>\n",
       "    </tr>\n",
       "    <tr>\n",
       "      <th>source</th>\n",
       "      <th></th>\n",
       "      <th></th>\n",
       "    </tr>\n",
       "  </thead>\n",
       "  <tbody>\n",
       "    <tr>\n",
       "      <th>READOUT_PLANE</th>\n",
       "      <td>7.255128e-09</td>\n",
       "      <td>1.885674e-09</td>\n",
       "    </tr>\n",
       "    <tr>\n",
       "      <th>FIELD_CAGE</th>\n",
       "      <td>3.088823e-08</td>\n",
       "      <td>2.512407e-10</td>\n",
       "    </tr>\n",
       "    <tr>\n",
       "      <th>INNER_SHIELDING</th>\n",
       "      <td>8.685615e-08</td>\n",
       "      <td>1.867094e-07</td>\n",
       "    </tr>\n",
       "  </tbody>\n",
       "</table>\n",
       "</div>"
      ],
      "text/plain": [
       "                    Bi214_err     Tl208_err\n",
       "source                                     \n",
       "READOUT_PLANE    7.255128e-09  1.885674e-09\n",
       "FIELD_CAGE       3.088823e-08  2.512407e-10\n",
       "INNER_SHIELDING  8.685615e-08  1.867094e-07"
      ]
     },
     "execution_count": 65,
     "metadata": {},
     "output_type": "execute_result"
    }
   ],
   "source": [
    "radiogenic_bkgnd_index_error_Bq = pd.DataFrame(radiogenic_bkgnd[['Bi214', 'Tl208']].values * \\\n",
    "                                               radiogenic_rejection_error[['Bi214_err', 'Tl208_err']].values,\n",
    "                                               index = radiogenic_bkgnd.index, columns=['Bi214_err', 'Tl208_err'])\n",
    "radiogenic_bkgnd_index_error = radiogenic_bkgnd_index_error_Bq * toCKKY\n",
    "print(f\"*** '{DETECTOR}' - Energy Res: {energyRes}% - Spatial Def: {spatialDef}\\n\")\n",
    "print(f\"Radiogenic Backgroun Index Statistical Error (ckky):\")\n",
    "radiogenic_bkgnd_index_error"
   ]
  },
  {
   "cell_type": "code",
   "execution_count": 66,
   "metadata": {},
   "outputs": [
    {
     "name": "stdout",
     "output_type": "stream",
     "text": [
      "*** 'next_hd' - Energy Res: 0.5% - Spatial Def: 3x3x3\n",
      "\n",
      "Radiogenic background level: 1.503e-09 Bq.\n",
      "Radiogenic background index: 2.514e-06 ckky\n",
      "\n",
      "Total Bi214         background index: 1.245e-06 ckky.  ->   49.51 %\n",
      "Total Tl208         background index: 1.269e-06 ckky.  ->   50.49 %\n",
      "\n",
      "Total READOUT_PLANE background index: 7.880e-08 ckky.  ->   3.135 %\n",
      "Total FIELD_CAGE    background index: 2.471e-07 ckky.  ->   9.831 %\n",
      "Total ICS           background index: 2.188e-06 ckky.  ->   87.03 %\n"
     ]
    }
   ],
   "source": [
    "print(f\"*** '{DETECTOR}' - Energy Res: {energyRes}% - Spatial Def: {spatialDef}\\n\")\n",
    "tot_radiogenic_bkgnd_index_Bq = radiogenic_bkgnd_index_Bq['Total'].sum()\n",
    "print(f\"Radiogenic background level: {tot_radiogenic_bkgnd_index_Bq:8.3e} Bq.\")\n",
    "tot_radiogenic_bkgnd_index = radiogenic_bkgnd_index['Total'].sum()\n",
    "print(f\"Radiogenic background index: {tot_radiogenic_bkgnd_index:8.3e} ckky\")\n",
    "\n",
    "tot_Bi = radiogenic_bkgnd_index['Bi214'].sum()\n",
    "tot_Tl = radiogenic_bkgnd_index['Tl208'].sum()\n",
    "print(f\"\\nTotal Bi214         background index: {tot_Bi:8.3e} ckky.  ->  {tot_Bi/tot_radiogenic_bkgnd_index*100:6.4} %\")\n",
    "print(f\"Total Tl208         background index: {tot_Tl:8.3e} ckky.  ->  {tot_Tl/tot_radiogenic_bkgnd_index*100:6.4} %\")\n",
    "\n",
    "tot_READOUT_PLANE = radiogenic_bkgnd_index.loc[pd.IndexSlice['READOUT_PLANE', energyRes, spatialDef]].Total\n",
    "tot_FIELD_CAGE    = radiogenic_bkgnd_index.loc[pd.IndexSlice['FIELD_CAGE', energyRes, spatialDef]].Total\n",
    "tot_ICS           = radiogenic_bkgnd_index.loc[pd.IndexSlice['INNER_SHIELDING', energyRes, spatialDef]].Total\n",
    "print(f\"\\nTotal READOUT_PLANE background index: {tot_READOUT_PLANE:8.3e} ckky.  ->  {tot_READOUT_PLANE/tot_radiogenic_bkgnd_index*100:6.4} %\")\n",
    "print(f\"Total FIELD_CAGE    background index: {tot_FIELD_CAGE:8.3e} ckky.  ->  {tot_FIELD_CAGE/tot_radiogenic_bkgnd_index*100:6.4} %\")\n",
    "print(f\"Total ICS           background index: {tot_ICS:8.3e} ckky.  ->  {tot_ICS/tot_radiogenic_bkgnd_index*100:6.4} %\")\n"
   ]
  },
  {
   "cell_type": "markdown",
   "metadata": {},
   "source": [
    "#### Radon background index"
   ]
  },
  {
   "cell_type": "code",
   "execution_count": 67,
   "metadata": {},
   "outputs": [
    {
     "name": "stdout",
     "output_type": "stream",
     "text": [
      "*** 'next_hd' - Energy Res: 0.5% - Spatial Def: 3x3x3\n",
      "\n",
      "Radon background index: 1.554e-07  (+- 1.554e-07) ckky\n"
     ]
    }
   ],
   "source": [
    "radon_bkgnd_index_Bq = (radon_background / units.Bq) * radon_rejection\n",
    "radon_bkgnd_index    = radon_bkgnd_index_Bq * toCKKY\n",
    "\n",
    "radon_bkgnd_index_error_Bq = (radon_background / units.Bq) * radon_rejection_err\n",
    "radon_bkgnd_index_error    = radon_bkgnd_index_error_Bq * toCKKY\n",
    "\n",
    "print(f\"*** '{DETECTOR}' - Energy Res: {energyRes}% - Spatial Def: {spatialDef}\\n\")\n",
    "print(f\"Radon background index: {radon_bkgnd_index:8.3e}  (+- {radon_bkgnd_index_error:8.3e}) ckky\")"
   ]
  },
  {
   "cell_type": "markdown",
   "metadata": {},
   "source": [
    "#### Muons background index"
   ]
  },
  {
   "cell_type": "code",
   "execution_count": 68,
   "metadata": {},
   "outputs": [
    {
     "name": "stdout",
     "output_type": "stream",
     "text": [
      "*** 'next_hd' - Energy Res: 0.5% - Spatial Def: 3x3x3\n",
      "\n",
      "Muon background index: 3.623e-09  (+- 1.105e-10) ckky\n"
     ]
    }
   ],
   "source": [
    "muon_bkgnd_index_Bq = muon_background * Xe137_rejection\n",
    "muon_bkgnd_index    = muon_bkgnd_index_Bq * toCKKY\n",
    "\n",
    "muon_bkgnd_index_error_Bq = muon_background * Xe137_rejection_err\n",
    "muon_bkgnd_index_error    = muon_bkgnd_index_error_Bq * toCKKY\n",
    "\n",
    "print(f\"*** '{DETECTOR}' - Energy Res: {energyRes}% - Spatial Def: {spatialDef}\\n\")\n",
    "print(f\"Muon background index: {muon_bkgnd_index:8.3e}  (+- {muon_bkgnd_index_error:8.3e}) ckky\")"
   ]
  },
  {
   "cell_type": "code",
   "execution_count": null,
   "metadata": {},
   "outputs": [],
   "source": []
  },
  {
   "cell_type": "markdown",
   "metadata": {},
   "source": [
    "### DETECTOR SUMMARY"
   ]
  },
  {
   "cell_type": "code",
   "execution_count": 43,
   "metadata": {},
   "outputs": [
    {
     "name": "stdout",
     "output_type": "stream",
     "text": [
      "Total background level: 1.800e-09 Bq.\n",
      "Total background index: 3.011e-06 ckky\n"
     ]
    }
   ],
   "source": [
    "bkgnd_index_Bq = tot_radiogenic_bkgnd_index_Bq + radon_bkgnd_index_Bq + muon_bkgnd_index_Bq\n",
    "print(f\"Total background level: {bkgnd_index_Bq:8.3e} Bq.\")\n",
    "bkgnd_index    = tot_radiogenic_bkgnd_index    + radon_bkgnd_index    + muon_bkgnd_index\n",
    "print(f\"Total background index: {bkgnd_index:8.3e} ckky\")"
   ]
  },
  {
   "cell_type": "code",
   "execution_count": 44,
   "metadata": {},
   "outputs": [
    {
     "name": "stdout",
     "output_type": "stream",
     "text": [
      "***** 'next_hd' *****\n",
      "\n",
      "** Radiogenic background level: probable\n",
      "** Radon background level:      pessimistic\n",
      "** Hosting laboratory:          LNGS\n",
      "\n",
      "** Energy Resolution:  0.5\n",
      "** Spatial definition: 3x3x3\n",
      "\n",
      "   Xe136 mass:        1.109e+03 Kg\n",
      "   Signal efficiency: 0.246\n",
      "\n",
      "   Radiogenic bkgnd index: 2.514e-06 ckky\n",
      "   Radon      bkgnd index: 1.554e-07 ckky\n",
      "   Muons      bkgnd index: 3.417e-07 ckky\n",
      "\n",
      "   Total      bkgnd index: 3.011e-06 ckky\n",
      "\n",
      "   FIGURE OF MERIT (s/sqrt(b)): 5.797e+03 a.u.\n"
     ]
    }
   ],
   "source": [
    "print(f\"***** '{DETECTOR}' *****\\n\")\n",
    "\n",
    "print(f\"** Radiogenic background level: {RADIOGENIC_BKGND_LEVEL}\")\n",
    "print(f\"** Radon background level:      {RADON_BKGND_LEVEL}\")\n",
    "print(f\"** Hosting laboratory:          {HOSTING_LAB}\\n\")\n",
    "\n",
    "print(f\"** Energy Resolution:  {energyRes}\")\n",
    "print(f\"** Spatial definition: {spatialDef}\\n\")\n",
    "\n",
    "\n",
    "print(f\"   Xe136 mass:        {Xe136_mass_kg:8.3e} Kg\")\n",
    "print(f\"   Signal efficiency: {sig_eff:.3}\\n\")\n",
    "\n",
    "print(f\"   Radiogenic bkgnd index: {tot_radiogenic_bkgnd_index:8.3e} ckky\")\n",
    "print(f\"   Radon      bkgnd index: {radon_bkgnd_index:8.3e} ckky\")\n",
    "print(f\"   Muons      bkgnd index: {muon_bkgnd_index:8.3e} ckky\\n\")\n",
    "\n",
    "print(f\"   Total      bkgnd index: {bkgnd_index:8.3e} ckky\\n\")\n",
    "\n",
    "print(f\"   FIGURE OF MERIT (s/sqrt(b)): {sig_eff/math.sqrt(bkgnd_index_Bq):8.3e} a.u.\")"
   ]
  },
  {
   "cell_type": "markdown",
   "metadata": {},
   "source": [
    "# SENSITIVITY"
   ]
  },
  {
   "cell_type": "code",
   "execution_count": null,
   "metadata": {},
   "outputs": [],
   "source": [
    "#from pybbsens import isotope"
   ]
  },
  {
   "cell_type": "code",
   "execution_count": 70,
   "metadata": {},
   "outputs": [
    {
     "data": {
      "text/plain": [
       "0.056766383000000004"
      ]
     },
     "execution_count": 70,
     "metadata": {},
     "output_type": "execute_result"
    }
   ],
   "source": [
    "3.011e-06 * 17 * 1.109e+03"
   ]
  },
  {
   "cell_type": "code",
   "execution_count": 71,
   "metadata": {},
   "outputs": [
    {
     "data": {
      "text/plain": [
       "0.051187"
      ]
     },
     "execution_count": 71,
     "metadata": {},
     "output_type": "execute_result"
    }
   ],
   "source": [
    "3.011e-06 * 17 * 1.e+03"
   ]
  },
  {
   "cell_type": "code",
   "execution_count": null,
   "metadata": {},
   "outputs": [],
   "source": []
  }
 ],
 "metadata": {
  "kernelspec": {
   "display_name": "Python 3",
   "language": "python",
   "name": "python3"
  },
  "language_info": {
   "codemirror_mode": {
    "name": "ipython",
    "version": 3
   },
   "file_extension": ".py",
   "mimetype": "text/x-python",
   "name": "python",
   "nbconvert_exporter": "python",
   "pygments_lexer": "ipython3",
   "version": "3.7.9"
  }
 },
 "nbformat": 4,
 "nbformat_minor": 2
}
