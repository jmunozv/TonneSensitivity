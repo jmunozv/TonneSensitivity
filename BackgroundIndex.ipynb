{
 "cells": [
  {
   "cell_type": "markdown",
   "metadata": {},
   "source": [
    "<p style=\"font-family: Arial; font-size:3.75em;color:purple; font-style:bold\">\n",
    "<br>NEXT TONNE - BACKGROUND INDEX</p><br>"
   ]
  },
  {
   "cell_type": "code",
   "execution_count": null,
   "metadata": {},
   "outputs": [],
   "source": [
    "from IPython.core.display import HTML\n",
    "css = open('style-table.css').read() + open('style-notebook.css').read()\n",
    "HTML('<style>{}</style>'.format(css))"
   ]
  },
  {
   "cell_type": "code",
   "execution_count": null,
   "metadata": {},
   "outputs": [],
   "source": [
    "%load_ext autoreload\n",
    "%autoreload 2"
   ]
  },
  {
   "cell_type": "code",
   "execution_count": null,
   "metadata": {},
   "outputs": [],
   "source": [
    "# General importings\n",
    "import math\n",
    "import numpy             as np\n",
    "import tables            as tb\n",
    "import pandas            as pd\n",
    "import matplotlib.pyplot as plt\n",
    "\n",
    "# IC stuff\n",
    "import invisible_cities.core.system_of_units as units\n",
    "\n",
    "# TONNE stuff\n",
    "from detector_dimensions  import get_dimensions\n",
    "from detector_dimensions  import print_dimensions\n",
    "\n",
    "from initial_activities  import get_radiogenic_activities\n",
    "from initial_activities  import get_radon_activity\n",
    "from initial_activities  import get_muon_flux\n",
    "from initial_activities  import get_muon_flux_error\n",
    "from initial_activities  import print_initial_activities\n",
    "\n",
    "from detector_backgrounds import get_radiogenic_background_level\n",
    "from detector_backgrounds import get_radon_background_level\n",
    "from detector_backgrounds import get_muon_background_level\n",
    "\n",
    "from rejection_factors    import get_rejection_factors\n",
    "from roi_settings         import get_roi_settings\n"
   ]
  },
  {
   "cell_type": "markdown",
   "metadata": {},
   "source": [
    "# DETAILS OF ANALYSIS"
   ]
  },
  {
   "cell_type": "code",
   "execution_count": null,
   "metadata": {},
   "outputs": [],
   "source": [
    "# Available detectors: \"next_2x2\", \"next_3x3\", \"next_hd\"\n",
    "DETECTOR = 'next_hd'\n",
    "\n",
    "# Available radiogenic background levels: \"reference\", \"probable\", \"optimistic\"\n",
    "RADIOGENIC_BKGND_LEVEL = 'probable'\n",
    "\n",
    "# Available Radon background levels: \"pessimistic\", \"optimistic\"\n",
    "RADON_BKGND_LEVEL = 'pessimistic'\n",
    "\n",
    "# Hosting lab: 'LSC', 'LNGS', 'SNOLAB'\n",
    "HOSTING_LAB = 'LNGS'"
   ]
  },
  {
   "cell_type": "markdown",
   "metadata": {},
   "source": [
    "# LOADING DETECTOR DATA"
   ]
  },
  {
   "cell_type": "code",
   "execution_count": null,
   "metadata": {},
   "outputs": [],
   "source": [
    "det_dim = get_dimensions(DETECTOR)"
   ]
  },
  {
   "cell_type": "code",
   "execution_count": null,
   "metadata": {},
   "outputs": [],
   "source": [
    "print_dimensions(DETECTOR)"
   ]
  },
  {
   "cell_type": "code",
   "execution_count": null,
   "metadata": {},
   "outputs": [],
   "source": [
    "radiogenic_act = get_radiogenic_activities(RADIOGENIC_BKGND_LEVEL)\n",
    "radon_act      = get_radon_activity(RADON_BKGND_LEVEL)\n",
    "muon_flux      = get_muon_flux(HOSTING_LAB)"
   ]
  },
  {
   "cell_type": "code",
   "execution_count": null,
   "metadata": {},
   "outputs": [],
   "source": [
    "print_initial_activities(RADIOGENIC_BKGND_LEVEL, RADON_BKGND_LEVEL, HOSTING_LAB)"
   ]
  },
  {
   "cell_type": "markdown",
   "metadata": {},
   "source": [
    "# COMPUTING THE DETECTOR BACKGROUND LEVEL"
   ]
  },
  {
   "cell_type": "markdown",
   "metadata": {},
   "source": [
    "#### Radiogenic contributions\n",
    "\n",
    "In principle. only the contributions from the 'READOUT_PLANES', 'FIELD_CAGE' and 'INNER_SHIELDING' are considered.\n",
    "\n",
    "Backgrounds expressed in Becquerel"
   ]
  },
  {
   "cell_type": "code",
   "execution_count": null,
   "metadata": {},
   "outputs": [],
   "source": [
    "radiogenic_bkgnd = get_radiogenic_background_level(DETECTOR, RADIOGENIC_BKGND_LEVEL)\n",
    "radiogenic_bkgnd['Total'] = radiogenic_bkgnd['Bi214'] + radiogenic_bkgnd['Tl208']\n",
    "print(f\"*** '{DETECTOR}' radiogenic background level (Bq.):\")\n",
    "radiogenic_bkgnd"
   ]
  },
  {
   "cell_type": "code",
   "execution_count": null,
   "metadata": {},
   "outputs": [],
   "source": [
    "tot_bkgnd = radiogenic_bkgnd['Total'].sum()\n",
    "print(f\"*** '{DETECTOR}' radiogenic background: {tot_bkgnd:8.3e} Bq.\")\n",
    "\n",
    "tot_Bi = radiogenic_bkgnd['Bi214'].sum()\n",
    "tot_Tl = radiogenic_bkgnd['Tl208'].sum()\n",
    "print(f\"\\nTotal Bi214 background: {tot_Bi:8.3e} Bq.  ->  {tot_Bi/tot_bkgnd*100:.4} %\")\n",
    "print(f\"Total Tl208 background: {tot_Tl:8.3e} Bq.  ->  {tot_Tl/tot_bkgnd*100:.4} %\")\n",
    "\n",
    "tot_READOUT_PLANE = radiogenic_bkgnd.loc['READOUT_PLANE'].Total\n",
    "tot_FIELD_CAGE    = radiogenic_bkgnd.loc['FIELD_CAGE'].Total\n",
    "tot_ICS           = radiogenic_bkgnd.loc['INNER_SHIELDING', 'Total']\n",
    "print(f\"\\nTotal READOUT_PLANE background: {tot_READOUT_PLANE:8.3e} Bq.  ->  {tot_READOUT_PLANE/tot_bkgnd*100:4.2} %\")\n",
    "print(f\"Total FIELD_CAGE background:    {tot_FIELD_CAGE:8.3e} Bq.  ->  {tot_FIELD_CAGE/tot_bkgnd*100:.4} %\")\n",
    "print(f\"Total ICS background:           {tot_ICS:8.3e} Bq.  ->  {tot_ICS/tot_bkgnd*100:.4} %\")\n"
   ]
  },
  {
   "cell_type": "markdown",
   "metadata": {},
   "source": [
    "#### Radon contribution\n",
    "\n",
    "The radon contribution is directly translated to an Bi214 concentration in the central CATHODE"
   ]
  },
  {
   "cell_type": "code",
   "execution_count": null,
   "metadata": {},
   "outputs": [],
   "source": [
    "radon_background = get_radon_background_level(DETECTOR, RADON_BKGND_LEVEL)\n",
    "print(f\"*** '{DETECTOR}' radon background: {radon_background/units.Bq:8.3e} Bq.\")\n",
    "print(f\"\\n(It will be treated as Bi214 contamination from the CATHODE)\")"
   ]
  },
  {
   "cell_type": "markdown",
   "metadata": {},
   "source": [
    "#### Muons contribution\n",
    "\n",
    "Xe137 decay is the only muon contribution considered."
   ]
  },
  {
   "cell_type": "code",
   "execution_count": null,
   "metadata": {},
   "outputs": [],
   "source": [
    "muon_background, muon_background_error = get_muon_background_level(DETECTOR, HOSTING_LAB)\n",
    "print(f\"\\n\\n*** '{DETECTOR}' in '{HOSTING_LAB}' muon background: {muon_background:8.3e} Bq.\")\n",
    "print(f\"\\n(It will be treated as Xe137 contamination from the ACTIVE)\")"
   ]
  },
  {
   "cell_type": "code",
   "execution_count": null,
   "metadata": {},
   "outputs": [],
   "source": []
  },
  {
   "cell_type": "markdown",
   "metadata": {},
   "source": [
    "# LOADING & SELECTING REJECTION FACTORS"
   ]
  },
  {
   "cell_type": "code",
   "execution_count": null,
   "metadata": {},
   "outputs": [],
   "source": [
    "rej_factors = get_rejection_factors(DETECTOR)\n",
    "print(f\"*** '{DETECTOR}' rejection factors:\")\n",
    "rej_factors"
   ]
  },
  {
   "cell_type": "markdown",
   "metadata": {},
   "source": [
    "### OPTIONS TO STUDY"
   ]
  },
  {
   "cell_type": "code",
   "execution_count": null,
   "metadata": {},
   "outputs": [],
   "source": [
    "energyRes  = 0.7\n",
    "spatialDef = '10x10x10'"
   ]
  },
  {
   "cell_type": "markdown",
   "metadata": {},
   "source": [
    "#### Signal efficiency"
   ]
  },
  {
   "cell_type": "code",
   "execution_count": null,
   "metadata": {},
   "outputs": [],
   "source": [
    "sig_eff     = rej_factors.loc[pd.IndexSlice['ACTIVE', energyRes, spatialDef], 'bb0nu']\n",
    "sig_eff_err = rej_factors.loc[pd.IndexSlice['ACTIVE', energyRes, spatialDef], 'bb0nu_err']\n",
    "print(f\"*** '{DETECTOR}' - Energy Res: {energyRes}% - Spatial Def: {spatialDef}\\n\")\n",
    "print(f\"Signal efficiency:  {sig_eff:.3} +- {sig_eff_err:.3} \")"
   ]
  },
  {
   "cell_type": "markdown",
   "metadata": {},
   "source": [
    "#### Radiogenic rejection_factors"
   ]
  },
  {
   "cell_type": "code",
   "execution_count": null,
   "metadata": {},
   "outputs": [],
   "source": [
    "radiogenic_rejection = rej_factors.loc[pd.IndexSlice[:, energyRes, spatialDef], ['Bi214', 'Tl208']]\n",
    "radiogenic_rejection.drop('ACTIVE',  level=0, axis=0, inplace=True)\n",
    "radiogenic_rejection.drop('CATHODE', level=0, axis=0, inplace=True)\n",
    "print(f\"*** '{DETECTOR}' - Energy Res: {energyRes}% - Spatial Def: {spatialDef}\\n\")\n",
    "print(f\"Radiogenic Rejection factor:\")\n",
    "radiogenic_rejection"
   ]
  },
  {
   "cell_type": "code",
   "execution_count": null,
   "metadata": {},
   "outputs": [],
   "source": [
    "radiogenic_rejection_error = rej_factors.loc[pd.IndexSlice[:, energyRes, spatialDef], ['Bi214_err', 'Tl208_err']]\n",
    "radiogenic_rejection_error.drop('ACTIVE',  level=0, axis=0, inplace=True)\n",
    "radiogenic_rejection_error.drop('CATHODE', level=0, axis=0, inplace=True)\n",
    "print(f\"*** '{DETECTOR}' - Energy Res: {energyRes}% - Spatial Def: {spatialDef}\\n\")\n",
    "print(f\"Radiogenic Rejection factor error:\")\n",
    "radiogenic_rejection_error"
   ]
  },
  {
   "cell_type": "markdown",
   "metadata": {},
   "source": [
    "#### Radon rejection_factor"
   ]
  },
  {
   "cell_type": "markdown",
   "metadata": {},
   "source": [
    "As in previos NEXT detectors we assume that the whole amount of Radon contamination is translated to Bi214 contamination from the CATHODE."
   ]
  },
  {
   "cell_type": "code",
   "execution_count": null,
   "metadata": {},
   "outputs": [],
   "source": [
    "radon_rejection     = rej_factors.loc[pd.IndexSlice['CATHODE', energyRes, spatialDef], 'Bi214']\n",
    "radon_rejection_err = rej_factors.loc[pd.IndexSlice['CATHODE', energyRes, spatialDef], 'Bi214_err']\n",
    "print(f\"*** '{DETECTOR}' - Energy Res: {energyRes}% - Spatial Def: {spatialDef}\\n\")\n",
    "print(f\"Radon rejection factor:  {radon_rejection:8.3e} +- {radon_rejection_err:8.3e}\")"
   ]
  },
  {
   "cell_type": "markdown",
   "metadata": {},
   "source": [
    "#### Muons rejection_factors"
   ]
  },
  {
   "cell_type": "markdown",
   "metadata": {},
   "source": [
    "The muons rejection factor = Xe137_activation * Xe137_rejection.\n",
    "\n",
    "As the Xe137_activation has been considered previously, the Xe137_rejection factor is the only one applied here."
   ]
  },
  {
   "cell_type": "code",
   "execution_count": null,
   "metadata": {},
   "outputs": [],
   "source": [
    "Xe137_rejection     = rej_factors.loc[pd.IndexSlice['ACTIVE', energyRes, spatialDef], 'Xe137']\n",
    "Xe137_rejection_err = rej_factors.loc[pd.IndexSlice['ACTIVE', energyRes, spatialDef], 'Xe137_err']\n",
    "print(f\"*** '{DETECTOR}' - Energy Res: {energyRes}% - Spatial Def: {spatialDef}\\n\")\n",
    "print(f\"Xe137 rejection factor:  {Xe137_rejection:8.3e} +- {Xe137_rejection_err:8.3e}\")"
   ]
  },
  {
   "cell_type": "code",
   "execution_count": null,
   "metadata": {},
   "outputs": [],
   "source": []
  },
  {
   "cell_type": "markdown",
   "metadata": {},
   "source": [
    "# COMPUTING THE DETECTOR BACKGROUND INDEX"
   ]
  },
  {
   "cell_type": "markdown",
   "metadata": {},
   "source": [
    "#### Estimating the Bq -> ckky conversion factor "
   ]
  },
  {
   "cell_type": "code",
   "execution_count": null,
   "metadata": {},
   "outputs": [],
   "source": [
    "secs_in_year    = 60 * 60 * 24 * 365\n",
    "Xe136_abundance = 0.902616\n",
    "Xe136_mass_kg   = det_dim['ACTIVE_mass'] * Xe136_abundance / units.kg\n",
    "ROI_settings    = get_roi_settings(energyRes)"
   ]
  },
  {
   "cell_type": "code",
   "execution_count": null,
   "metadata": {},
   "outputs": [],
   "source": [
    "toCKKY = secs_in_year / Xe136_mass_kg / ((ROI_settings['Emax'] - ROI_settings['Emin']) / units.keV)"
   ]
  },
  {
   "cell_type": "code",
   "execution_count": null,
   "metadata": {},
   "outputs": [],
   "source": [
    "print(f\"*** '{DETECTOR}' - Energy Res: {energyRes}% - Spatial Def: {spatialDef}\\n\")\n",
    "print(f\"Xe136 mass: {Xe136_mass_kg:.6} kg.\")\n",
    "print(f\"ROI: [{ROI_settings['Emin']/units.keV}, {ROI_settings['Emax']/units.keV}] keV.\")\n",
    "print(f\"toCKKY factor: {toCKKY:.6}\")"
   ]
  },
  {
   "cell_type": "markdown",
   "metadata": {},
   "source": [
    "#### Radiogenic background index"
   ]
  },
  {
   "cell_type": "code",
   "execution_count": null,
   "metadata": {
    "scrolled": true
   },
   "outputs": [],
   "source": [
    "radiogenic_bkgnd_index_Bq = radiogenic_bkgnd[['Bi214', 'Tl208']] * radiogenic_rejections[['Bi214', 'Tl208']]\n",
    "radiogenic_bkgnd_index_Bq['Total'] = radiogenic_bkgnd_index_Bq['Bi214'].add(radiogenic_bkgnd_index_Bq['Tl208'],\n",
    "                                                                            fill_value = 0.)\n",
    "radiogenic_bkgnd_index = radiogenic_bkgnd_index_Bq * toCKKY\n",
    "print(f\"*** '{DETECTOR}' - Energy Res: {energyRes}% - Spatial Def: {spatialDef}\\n\")\n",
    "print(f\"Radiogenic Backgroun Index (ckky):\")\n",
    "radiogenic_bkgnd_index"
   ]
  },
  {
   "cell_type": "code",
   "execution_count": null,
   "metadata": {},
   "outputs": [],
   "source": [
    "radiogenic_bkgnd_index_error_Bq = pd.DataFrame(radiogenic_bkgnd[['Bi214', 'Tl208']].values * \\\n",
    "                                               radiogenic_rejections_error[['Bi214_err', 'Tl208_err']].values,\n",
    "                                               index = radiogenic_bkgnd.index, columns=['Bi214_err', 'Tl208_err'])\n",
    "radiogenic_bkgnd_index_error = radiogenic_bkgnd_index_error_Bq * toCKKY\n",
    "print(f\"*** '{DETECTOR}' - Energy Res: {energyRes}% - Spatial Def: {spatialDef}\\n\")\n",
    "print(f\"Radiogenic Backgroun Index Statistical Error (ckky):\")\n",
    "radiogenic_bkgnd_index_error"
   ]
  },
  {
   "cell_type": "code",
   "execution_count": null,
   "metadata": {},
   "outputs": [],
   "source": [
    "print(f\"*** '{DETECTOR}' - Energy Res: {energyRes}% - Spatial Def: {spatialDef}\\n\")\n",
    "tot_radiogenic_bkgnd_index = radiogenic_bkgnd_index['Total'].sum()\n",
    "print(f\"Radiogenic background index: {tot_radiogenic_bkgnd_index:8.3e} ckky\")\n",
    "\n",
    "tot_Bi = radiogenic_bkgnd_index['Bi214'].sum()\n",
    "tot_Tl = radiogenic_bkgnd_index['Tl208'].sum()\n",
    "print(f\"\\nTotal Bi214         background index: {tot_Bi:8.3e} ckky.  ->  {tot_Bi/tot_radiogenic_bkgnd_index*100:6.4} %\")\n",
    "print(f\"Total Tl208         background index: {tot_Tl:8.3e} ckky.  ->  {tot_Tl/tot_radiogenic_bkgnd_index*100:6.4} %\")\n",
    "\n",
    "tot_READOUT_PLANE = radiogenic_bkgnd_index.loc[pd.IndexSlice['READOUT_PLANE', energyRes, spatialDef]].Total\n",
    "tot_FIELD_CAGE    = radiogenic_bkgnd_index.loc[pd.IndexSlice['FIELD_CAGE', energyRes, spatialDef]].Total\n",
    "tot_ICS           = radiogenic_bkgnd_index.loc[pd.IndexSlice['INNER_SHIELDING', energyRes, spatialDef]].Total\n",
    "print(f\"\\nTotal READOUT_PLANE background index: {tot_READOUT_PLANE:8.3e} ckky.  ->  {tot_READOUT_PLANE/tot_radiogenic_bkgnd_index*100:6.4} %\")\n",
    "print(f\"Total FIELD_CAGE    background index: {tot_FIELD_CAGE:8.3e} ckky.  ->  {tot_FIELD_CAGE/tot_radiogenic_bkgnd_index*100:6.4} %\")\n",
    "print(f\"Total ICS           background index: {tot_ICS:8.3e} ckky.  ->  {tot_ICS/tot_radiogenic_bkgnd_index*100:6.4} %\")\n"
   ]
  },
  {
   "cell_type": "markdown",
   "metadata": {},
   "source": [
    "#### Radon background index"
   ]
  },
  {
   "cell_type": "code",
   "execution_count": null,
   "metadata": {},
   "outputs": [],
   "source": [
    "radon_bkgnd_index_Bq = (radon_background / units.Bq) * radon_rejection\n",
    "radon_bkgnd_index    = radon_bkgnd_index_Bq * toCKKY\n",
    "\n",
    "radon_bkgnd_index_error_Bq = (radon_background / units.Bq) * radon_rejection_err\n",
    "radon_bkgnd_index_error    = radon_bkgnd_index_error_Bq * toCKKY\n",
    "\n",
    "print(f\"*** '{DETECTOR}' - Energy Res: {energyRes}% - Spatial Def: {spatialDef}\\n\")\n",
    "print(f\"Radon background index: {radon_bkgnd_index:8.3e}  (+- {radon_bkgnd_index_error:8.3e}) ckky\")"
   ]
  },
  {
   "cell_type": "markdown",
   "metadata": {},
   "source": [
    "#### Muons background index"
   ]
  },
  {
   "cell_type": "code",
   "execution_count": null,
   "metadata": {},
   "outputs": [],
   "source": [
    "muon_bkgnd_index_Bq = muon_background * Xe137_rejection\n",
    "muon_bkgnd_index    = muon_bkgnd_index_Bq * toCKKY\n",
    "\n",
    "muon_bkgnd_index_error_Bq = muon_background * Xe137_rejection_err\n",
    "muon_bkgnd_index_error    = muon_bkgnd_index_error_Bq * toCKKY\n",
    "\n",
    "print(f\"*** '{DETECTOR}' - Energy Res: {energyRes}% - Spatial Def: {spatialDef}\\n\")\n",
    "print(f\"Muon background index: {muon_bkgnd_index:8.3e}  (+- {muon_bkgnd_index_error:8.3e}) ckky\")"
   ]
  },
  {
   "cell_type": "code",
   "execution_count": null,
   "metadata": {},
   "outputs": [],
   "source": []
  },
  {
   "cell_type": "markdown",
   "metadata": {},
   "source": [
    "### DETECTOR SUMMARY"
   ]
  },
  {
   "cell_type": "code",
   "execution_count": null,
   "metadata": {},
   "outputs": [],
   "source": [
    "bkgnd_index = tot_radiogenic_bkgnd_index + radon_bkgnd_index + muon_bkgnd_index"
   ]
  },
  {
   "cell_type": "code",
   "execution_count": null,
   "metadata": {},
   "outputs": [],
   "source": [
    "print(f\"***** '{DETECTOR}' *****\\n\")\n",
    "\n",
    "print(f\"** Radiogenic background level: {RADIOGENIC_BKGND_LEVEL}\")\n",
    "print(f\"** Radon background level:      {RADON_BKGND_LEVEL}\")\n",
    "print(f\"** Hosting laboratory:          {HOSTING_LAB}\\n\")\n",
    "\n",
    "print(f\"** Energy Resolution:  {energyRes}\")\n",
    "print(f\"** Spatial definition: {spatialDef}\\n\")\n",
    "\n",
    "\n",
    "print(f\"   Xe136 mass:        {Xe136_mass_kg:8.3e} Kg\")\n",
    "print(f\"   Signal efficiency: {sig_eff:.3}\\n\")\n",
    "\n",
    "print(f\"   Radiogenic bkgnd index: {tot_radiogenic_bkgnd_index:8.3e} ckky\")\n",
    "print(f\"   Radon      bkgnd index: {radon_bkgnd_index:8.3e} ckky\")\n",
    "print(f\"   Muons      bkgnd index: {muon_bkgnd_index:8.3e} ckky\\n\")\n",
    "\n",
    "print(f\"   Total      bkgnd index: {bkgnd_index:8.3e} ckky\")"
   ]
  },
  {
   "cell_type": "markdown",
   "metadata": {},
   "source": [
    "# SENSITIVITY"
   ]
  },
  {
   "cell_type": "code",
   "execution_count": null,
   "metadata": {},
   "outputs": [],
   "source": [
    "#from pybbsens import isotope"
   ]
  },
  {
   "cell_type": "code",
   "execution_count": null,
   "metadata": {},
   "outputs": [],
   "source": []
  },
  {
   "cell_type": "code",
   "execution_count": null,
   "metadata": {},
   "outputs": [],
   "source": []
  }
 ],
 "metadata": {
  "kernelspec": {
   "display_name": "Python 3",
   "language": "python",
   "name": "python3"
  },
  "language_info": {
   "codemirror_mode": {
    "name": "ipython",
    "version": 3
   },
   "file_extension": ".py",
   "mimetype": "text/x-python",
   "name": "python",
   "nbconvert_exporter": "python",
   "pygments_lexer": "ipython3",
   "version": "3.7.1"
  }
 },
 "nbformat": 4,
 "nbformat_minor": 2
}
